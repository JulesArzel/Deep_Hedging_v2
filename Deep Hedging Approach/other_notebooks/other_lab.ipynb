{
 "cells": [
  {
   "cell_type": "code",
   "execution_count": null,
   "metadata": {
    "vscode": {
     "languageId": "plaintext"
    }
   },
   "outputs": [],
   "source": [
    "i = 0\n",
    "\n",
    "hedger = globals()[f'hedger_MLP_cs_{i}']\n",
    "derivative = globals()[f'derivative_cs_{i}']\n",
    "\n",
    "hedges = hedger.compute_hedge(derivative_cs_4)\n",
    "\n",
    "print(\"Hedging strategy shape:\", hedges.shape)\n",
    "\n",
    "trades = hedges[..., 1:] - hedges[..., :-1] \n",
    "\n",
    "trades = trades.squeeze(1)                \n",
    "T_0 = trades.mean(dim=0).tolist()\n",
    "\n",
    "plt.plot(T_0, label=f\"Trades at TC={tc[i]}\")\n",
    "plt.xlabel(\"Time Step\")\n",
    "plt.ylabel(\"Shares Bought (+) / Sold (−)\")\n",
    "plt.title(\"Trading Strategy (MLP)\")\n",
    "plt.axhline(0, color='black', linewidth=0.8, linestyle='--')\n",
    "plt.legend()\n",
    "plt.grid(True)\n",
    "plt.show()"
   ]
  },
  {
   "cell_type": "code",
   "execution_count": null,
   "metadata": {
    "vscode": {
     "languageId": "plaintext"
    }
   },
   "outputs": [],
   "source": [
    "i = 4 \n",
    "\n",
    "hedger = globals()[f'hedger_MLP_cs_{i}']\n",
    "derivative = globals()[f'derivative_cs_{i}']\n",
    "\n",
    "hedges = hedger.compute_hedge(derivative_cs_4)\n",
    "\n",
    "print(\"Hedging strategy shape:\", hedges.shape)\n",
    "\n",
    "trades = hedges[..., 1:] - hedges[..., :-1] \n",
    "\n",
    "trades = trades.squeeze(1)                \n",
    "T_4 = trades.mean(dim=0).tolist()       \n",
    "\n",
    "plt.plot(T_4, label=f\"Trades at TC={tc[i]}\")\n",
    "plt.xlabel(\"Time Step\")\n",
    "plt.ylabel(\"Shares Bought (+) / Sold (−)\")\n",
    "plt.title(\"Trading Strategy (MLP)\")\n",
    "plt.axhline(0, color='black', linewidth=0.8, linestyle='--')\n",
    "plt.legend()\n",
    "plt.grid(True)\n",
    "plt.show()\n"
   ]
  },
  {
   "cell_type": "code",
   "execution_count": null,
   "metadata": {
    "vscode": {
     "languageId": "plaintext"
    }
   },
   "outputs": [],
   "source": [
    "i = 4 \n",
    "\n",
    "hedger_K1 = globals()[f'hedger_MLP_K1_{i}']\n",
    "derivative_K1 = globals()[f'derivative_K1_{i}']\n",
    "\n",
    "hedges_K1 = hedger_K1.compute_hedge(derivative_K1)\n",
    "\n",
    "print(\"Hedging strategy shape:\", hedges_K1.shape)\n",
    "\n",
    "trades_K1 = hedges_K1[..., 1:] - hedges_K1[..., :-1] \n",
    "\n",
    "trades_K1 = trades_K1.squeeze(1)                \n",
    "T_K1 = trades_K1.mean(dim=0).tolist()\n",
    "\n",
    "hedger_K2 = globals()[f'hedger_MLP_K2_{i}']\n",
    "derivative_K2 = globals()[f'derivative_K2_{i}']\n",
    "\n",
    "hedges_K2 = hedger_K2.compute_hedge(derivative_K2)\n",
    "\n",
    "print(\"Hedging strategy shape:\", hedges_K2.shape)\n",
    "\n",
    "trades_K2 = hedges_K2[..., 1:] - hedges_K2[..., :-1] \n",
    "\n",
    "trades_K2 = trades_K2.squeeze(1)                \n",
    "T_K2 = trades_K2.mean(dim=0).tolist() \n",
    "\n",
    "T_K_4 = np.subtract(T_K1,T_K2)\n",
    "\n",
    "plt.plot(T_K_4, label=f\"Trades at TC={tc[i]}\")\n",
    "plt.xlabel(\"Time Step\")\n",
    "plt.ylabel(\"Shares Bought (+) / Sold (−)\")\n",
    "plt.title(\"Trading Strategy (MLP)\")\n",
    "plt.axhline(0, color='black', linewidth=0.8, linestyle='--')\n",
    "plt.legend()\n",
    "plt.grid(True)\n",
    "plt.show()"
   ]
  },
  {
   "cell_type": "code",
   "execution_count": null,
   "metadata": {
    "vscode": {
     "languageId": "plaintext"
    }
   },
   "outputs": [],
   "source": [
    "i = 0\n",
    "\n",
    "hedger_K1 = globals()[f'hedger_MLP_K1_{i}']\n",
    "derivative_K1 = globals()[f'derivative_K1_{i}']\n",
    "\n",
    "hedges_K1 = hedger_K1.compute_hedge(derivative_K1)\n",
    "\n",
    "print(\"Hedging strategy shape:\", hedges_K1.shape)\n",
    "\n",
    "trades_K1 = hedges_K1[..., 1:] - hedges_K1[..., :-1] \n",
    "\n",
    "trades_K1 = trades_K1.squeeze(1)                \n",
    "T_K1 = trades_K1.mean(dim=0).tolist()  \n",
    "\n",
    "hedger_K2 = globals()[f'hedger_MLP_K2_{i}']\n",
    "derivative_K2 = globals()[f'derivative_K2_{i}']\n",
    "\n",
    "hedges_K2 = hedger_K2.compute_hedge(derivative_K2)\n",
    "\n",
    "print(\"Hedging strategy shape:\", hedges_K2.shape)\n",
    "\n",
    "trades_K2 = hedges_K2[..., 1:] - hedges_K2[..., :-1] \n",
    "\n",
    "trades_K2 = trades_K2.squeeze(1)                \n",
    "T_K2 = trades_K2.mean(dim=0).tolist()  \n",
    "\n",
    "T_K_0 = np.subtract(T_K1,T_K2)\n",
    "\n",
    "plt.plot(T_K_0, label=f\"Trades at TC={tc[i]}\")\n",
    "plt.xlabel(\"Time Step\")\n",
    "plt.ylabel(\"Shares Bought (+) / Sold (−)\")\n",
    "plt.title(\"Trading Strategy (MLP)\")\n",
    "plt.axhline(0, color='black', linewidth=0.8, linestyle='--')\n",
    "plt.legend()\n",
    "plt.grid(True)\n",
    "plt.show()"
   ]
  },
  {
   "cell_type": "code",
   "execution_count": null,
   "metadata": {
    "vscode": {
     "languageId": "plaintext"
    }
   },
   "outputs": [],
   "source": [
    "plt.plot(T_4, label=f\"Trades at TC=0.03 (direct)\")\n",
    "plt.plot(T_K_4, label=f\"Trades at TC=0.03 (indirect)\")\n",
    "plt.xlabel(\"Time Step\")\n",
    "plt.ylabel(\"Shares Bought (+) / Sold (−)\")\n",
    "plt.title(\"Trading Strategy\")\n",
    "plt.axhline(0, color='black', linewidth=0.8, linestyle='--')\n",
    "plt.ylim((-0.0001, 0.0001))\n",
    "plt.legend()\n",
    "plt.grid(True)\n",
    "plt.show()"
   ]
  },
  {
   "cell_type": "code",
   "execution_count": null,
   "metadata": {
    "vscode": {
     "languageId": "plaintext"
    }
   },
   "outputs": [],
   "source": [
    "plt.plot(T_0, label=f\"Trades at TC=0 (direct)\")\n",
    "plt.plot(T_K_0, label=f\"Trades at TC=0 (indirect)\")\n",
    "plt.xlabel(\"Time Step\")\n",
    "plt.ylabel(\"Shares Bought (+) / Sold (−)\")\n",
    "plt.title(\"Trading Strategy\")\n",
    "plt.ylim((-0.01, 0.01))\n",
    "plt.axhline(0, color='black', linewidth=0.8, linestyle='--')\n",
    "plt.legend()\n",
    "plt.grid(True)\n",
    "plt.show()"
   ]
  }
 ],
 "metadata": {
  "language_info": {
   "name": "python"
  }
 },
 "nbformat": 4,
 "nbformat_minor": 2
}
