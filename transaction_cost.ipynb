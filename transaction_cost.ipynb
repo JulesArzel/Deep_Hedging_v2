{
 "cells": [
  {
   "cell_type": "code",
   "execution_count": 1,
   "metadata": {},
   "outputs": [],
   "source": [
    "import numpy as np \n",
    "import pandas as pd \n",
    "import matplotlib.pyplot as plt "
   ]
  },
  {
   "cell_type": "code",
   "execution_count": 2,
   "metadata": {},
   "outputs": [],
   "source": [
    "# Parameters\n",
    "T = 1.0\n",
    "N = 20\n",
    "dt = T / N\n",
    "gamma = 0.5\n",
    "K = 100  # Strike\n",
    "S0 = 100\n",
    "r = 0.05\n",
    "alpha = 0.1\n",
    "sigma = 0.2\n",
    "lambda_ = 0.01\n",
    "mu = 0.01\n"
   ]
  },
  {
   "cell_type": "code",
   "execution_count": 15,
   "metadata": {},
   "outputs": [],
   "source": [
    "# Discretization\n",
    "delta_y = 1\n",
    "M = 20  # controls range of y\n",
    "y_grid = np.arange(-M, M + 1) * delta_y\n",
    "\n",
    "delta_W = 1\n",
    "K_W = 20  # controls range of W\n",
    "W_grid = np.arange(0, K_W + 1) * delta_W"
   ]
  },
  {
   "cell_type": "code",
   "execution_count": 9,
   "metadata": {},
   "outputs": [],
   "source": [
    "S = np.zeros((N+1,N+1))\n",
    "for j in range(N+1):\n",
    "    for i in range(j+1):\n",
    "        S[i,j] = S0 * (np.exp(sigma * np.sqrt(dt))) ** (j - i) * (np.exp(-sigma * np.sqrt(dt))) ** i"
   ]
  },
  {
   "cell_type": "code",
   "execution_count": 11,
   "metadata": {},
   "outputs": [],
   "source": [
    "def utility(x):\n",
    "    return (x**gamma)/gamma"
   ]
  },
  {
   "cell_type": "code",
   "execution_count": 16,
   "metadata": {},
   "outputs": [],
   "source": [
    "u = np.full((N + 1, 2 * N + 1, len(y_grid), len(W_grid)), -1e10)"
   ]
  },
  {
   "cell_type": "code",
   "execution_count": 17,
   "metadata": {},
   "outputs": [
    {
     "name": "stderr",
     "output_type": "stream",
     "text": [
      "/var/folders/3_/t8l3yh8s28z9_jbq7gqy7byr0000gn/T/ipykernel_35688/3812155094.py:7: RuntimeWarning: invalid value encountered in scalar power\n",
      "  u[N, j, k, l] = (W_tilde ** gamma) / gamma\n"
     ]
    }
   ],
   "source": [
    "for j in range(N + 1):\n",
    "    for k, y in enumerate(y_grid):\n",
    "        for l, W in enumerate(W_grid):\n",
    "            W_T = W\n",
    "            payoff = max(S[j,N] - K, 0)\n",
    "            W_tilde = W_T - payoff\n",
    "            u[N, j, k, l] = (W_tilde ** gamma) / gamma"
   ]
  }
 ],
 "metadata": {
  "kernelspec": {
   "display_name": "Python 3.12 (python.org)",
   "language": "python",
   "name": "mypython312"
  },
  "language_info": {
   "codemirror_mode": {
    "name": "ipython",
    "version": 3
   },
   "file_extension": ".py",
   "mimetype": "text/x-python",
   "name": "python",
   "nbconvert_exporter": "python",
   "pygments_lexer": "ipython3",
   "version": "3.12.8"
  }
 },
 "nbformat": 4,
 "nbformat_minor": 2
}
