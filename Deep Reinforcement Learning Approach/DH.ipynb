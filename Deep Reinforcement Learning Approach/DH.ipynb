{
 "cells": [
  {
   "cell_type": "markdown",
   "metadata": {},
   "source": [
    "# Packages"
   ]
  },
  {
   "cell_type": "code",
   "execution_count": 7,
   "metadata": {},
   "outputs": [],
   "source": [
    "import numpy as np\n",
    "import torch\n",
    "import torch.nn as nn\n",
    "from torch.utils.data import DataLoader, TensorDataset\n",
    "import matplotlib.pyplot as plt\n",
    "from scipy.stats import norm"
   ]
  },
  {
   "cell_type": "markdown",
   "metadata": {},
   "source": [
    "# Helper functions"
   ]
  },
  {
   "cell_type": "code",
   "execution_count": null,
   "metadata": {},
   "outputs": [],
   "source": [
    "# ----- Black-Scholes path simulator -----\n",
    "def simulate_paths(model=\"BS\", N_paths=5000, N_steps=30, S0=100, mu=0, sigma=0.2, dt=None):\n",
    "    if dt is None:\n",
    "        dt = 1.0 / N_steps\n",
    "    S_paths = np.zeros((N_paths, N_steps + 1))\n",
    "    S_paths[:, 0] = S0\n",
    "    for t in range(1, N_steps + 1):\n",
    "        z = np.random.randn(N_paths)\n",
    "        S_paths[:, t] = S_paths[:, t-1] * np.exp((mu - 0.5 * sigma**2) * dt + sigma * np.sqrt(dt) * z)\n",
    "    return S_paths\n",
    "\n",
    "# ----- Black-Scholes Delta -----\n",
    "def bs_call_delta(S, K, T, r, sigma):\n",
    "    \"\"\"\n",
    "    Vectorized Black-Scholes delta for a European call option.\n",
    "    S: [n_paths, n_steps] spot prices\n",
    "    K: strike (scalar)\n",
    "    T: [n_steps] time to maturity for each step (in years)\n",
    "    r: risk-free rate (scalar)\n",
    "    sigma: volatility (scalar)\n",
    "    Returns:\n",
    "        delta: [n_paths, n_steps] delta for each path and step\n",
    "    \"\"\"\n",
    "    # Avoid division by zero at T=0\n",
    "    T = np.maximum(T, 1e-8)\n",
    "    d1 = (np.log(S / K) + (r + 0.5 * sigma ** 2) * T) / (sigma * np.sqrt(T))\n",
    "    return norm.cdf(d1)\n",
    "\n",
    "\n",
    "# ----- LSTM network for hedging -----\n",
    "class HedgingLSTM(nn.Module):\n",
    "    def __init__(self, input_dim=1, hidden_dim=32, n_layers=3):\n",
    "        super().__init__()\n",
    "        self.lstm = nn.LSTM(input_dim, hidden_dim, n_layers, batch_first=True)\n",
    "        self.fc = nn.Linear(hidden_dim, 1)\n",
    "    def forward(self, x):\n",
    "        out, _ = self.lstm(x)\n",
    "        return self.fc(out)\n",
    "\n",
    "# ----- Batched P&L calculation in torch -----\n",
    "def compute_pnl_torch(S_batch, deltas, transaction_cost=0.01, strike=100):\n",
    "    batch_size, seq_len, _ = S_batch.shape\n",
    "    cash = torch.zeros(batch_size, device=S_batch.device)\n",
    "    delta_prev = torch.zeros(batch_size, device=S_batch.device)\n",
    "    for k in range(seq_len):\n",
    "        delta_k = deltas[:, k, 0]\n",
    "        S_k = S_batch[:, k, 0]\n",
    "        trade = delta_k - delta_prev\n",
    "        cost = transaction_cost * torch.abs(trade) * S_k\n",
    "        cash = cash - trade * S_k - cost\n",
    "        delta_prev = delta_k\n",
    "    payoff = torch.relu(S_batch[:, -1, 0] - strike)\n",
    "    pnl = cash + delta_prev * S_batch[:, -1, 0] - payoff\n",
    "    return pnl\n",
    "\n",
    "'''# 3. Compute hedging P&L with transaction costs\n",
    "def compute_pnl(S_path, NN, transaction_cost):\n",
    "    n = len(S_path)\n",
    "    deltas = []\n",
    "    cash = 0\n",
    "    delta_prev = 0\n",
    "    for k in range(n):\n",
    "        # Option 1: Use only S_{t_k}\n",
    "        #delta_k = NN(S_path[k])\n",
    "        # Option 2: Use RNN, so \n",
    "        delta_k = NN(S_path[:k+1])\n",
    "        deltas.append(delta_k)\n",
    "        # Trading cost\n",
    "        trade = delta_k - delta_prev\n",
    "        cost = transaction_cost * abs(trade) * S_path[k]\n",
    "        cash -= trade * S_path[k] + cost\n",
    "        delta_prev = delta_k\n",
    "    # Terminal P&L: unwind all, pay option payoff\n",
    "    payoff = max(S_path[-1] - strike, 0)\n",
    "    pnl = cash + delta_prev * S_path[-1] - payoff\n",
    "    return pnl\n",
    "'''\n",
    "\n",
    "# ----- Loss for neural network ------\n",
    "def expected_shortfall(losses, q):\n",
    "    # losses: 1D torch tensor\n",
    "    sorted_losses, _ = torch.sort(losses)\n",
    "    n = len(losses)\n",
    "    idx = max(1, int((1 - q) * n))\n",
    "    return sorted_losses[:idx].mean()\n",
    "\n",
    "def mixed_expected_shortfall(losses, alpha=0.95, beta=0.05):\n",
    "    es_50 = expected_shortfall(losses, 0.5)\n",
    "    es_alpha = expected_shortfall(losses, alpha)\n",
    "    return (es_50 + beta * es_alpha) / (1 + beta)\n",
    "\n"
   ]
  },
  {
   "cell_type": "markdown",
   "metadata": {},
   "source": [
    "# Parameters"
   ]
  },
  {
   "cell_type": "code",
   "execution_count": null,
   "metadata": {},
   "outputs": [
    {
     "name": "stdout",
     "output_type": "stream",
     "text": [
      "Epoch 0, MixedES Loss: -0.01\n",
      "Epoch 1, MixedES Loss: -0.02\n",
      "Epoch 2, MixedES Loss: -0.05\n",
      "Epoch 3, MixedES Loss: -0.16\n",
      "Epoch 4, MixedES Loss: -0.32\n",
      "Epoch 5, MixedES Loss: -0.42\n",
      "Epoch 6, MixedES Loss: -0.50\n",
      "Epoch 7, MixedES Loss: -0.56\n",
      "Epoch 8, MixedES Loss: -0.60\n",
      "Epoch 9, MixedES Loss: -0.66\n",
      "Epoch 10, MixedES Loss: -0.68\n",
      "Epoch 11, MixedES Loss: -0.71\n",
      "Epoch 12, MixedES Loss: -0.75\n",
      "Epoch 13, MixedES Loss: -0.74\n",
      "Epoch 14, MixedES Loss: -0.76\n",
      "Epoch 15, MixedES Loss: -0.76\n",
      "Epoch 16, MixedES Loss: -0.75\n",
      "Epoch 17, MixedES Loss: -0.77\n",
      "Epoch 18, MixedES Loss: -0.75\n",
      "Epoch 19, MixedES Loss: -0.77\n",
      "Epoch 20, MixedES Loss: -0.78\n",
      "Epoch 21, MixedES Loss: -0.77\n",
      "Epoch 22, MixedES Loss: -0.76\n",
      "Epoch 23, MixedES Loss: -0.78\n",
      "Epoch 24, MixedES Loss: -0.77\n",
      "Epoch 25, MixedES Loss: -0.77\n",
      "Epoch 26, MixedES Loss: -0.78\n",
      "Epoch 27, MixedES Loss: -0.76\n",
      "Epoch 28, MixedES Loss: -0.78\n",
      "Epoch 29, MixedES Loss: -0.78\n",
      "Epoch 30, MixedES Loss: -0.78\n",
      "Epoch 31, MixedES Loss: -0.78\n",
      "Epoch 32, MixedES Loss: -0.78\n",
      "Epoch 33, MixedES Loss: -0.79\n",
      "Epoch 34, MixedES Loss: -0.79\n",
      "Epoch 35, MixedES Loss: -0.78\n",
      "Epoch 36, MixedES Loss: -0.78\n",
      "Epoch 37, MixedES Loss: -0.79\n",
      "Epoch 38, MixedES Loss: -0.79\n",
      "Epoch 39, MixedES Loss: -0.80\n",
      "Epoch 40, MixedES Loss: -0.79\n",
      "Epoch 41, MixedES Loss: -0.79\n",
      "Epoch 42, MixedES Loss: -0.78\n",
      "Epoch 43, MixedES Loss: -0.78\n",
      "Epoch 44, MixedES Loss: -0.79\n",
      "Epoch 45, MixedES Loss: -0.79\n",
      "Epoch 46, MixedES Loss: -0.78\n",
      "Epoch 47, MixedES Loss: -0.79\n",
      "Epoch 48, MixedES Loss: -0.79\n",
      "Epoch 49, MixedES Loss: -0.79\n",
      "Test mean PnL: -0.00, Test MixedES: -0.16\n"
     ]
    },
    {
     "data": {
      "image/png": "[encoded data removed]",
      "text/plain": [
       "<Figure size 640x480 with 1 Axes>"
      ]
     },
     "metadata": {},
     "output_type": "display_data"
    }
   ],
   "source": [
    "# Parameters\n",
    "N_paths = 5000\n",
    "N_steps = 30\n",
    "batch_size = 128\n",
    "transaction_cost = 0.0\n",
    "strike = 100\n",
    "S0 = 100\n",
    "hidden_dim = 32\n",
    "lr = 1e-4\n",
    "n_epochs = 50\n",
    "alpha = 0.95\n",
    "beta = 0.05\n"
   ]
  },
  {
   "cell_type": "markdown",
   "metadata": {},
   "source": [
    "# Data generation"
   ]
  },
  {
   "cell_type": "code",
   "execution_count": null,
   "metadata": {},
   "outputs": [],
   "source": [
    "# Data generation\n",
    "S_paths = simulate_paths(N_paths=N_paths, N_steps=N_steps, S0=S0)\n",
    "S_inputs = S_paths[:, :-1][..., np.newaxis]\n",
    "S_inputs = S_inputs / S0  # normalize for neural network stability\n",
    "dataset = TensorDataset(torch.tensor(S_inputs, dtype=torch.float32))\n",
    "train_loader = DataLoader(dataset, batch_size=batch_size, shuffle=True)"
   ]
  },
  {
   "cell_type": "markdown",
   "metadata": {},
   "source": [
    "# Training"
   ]
  },
  {
   "cell_type": "code",
   "execution_count": null,
   "metadata": {},
   "outputs": [],
   "source": [
    "# Model and optimizer\n",
    "policy = HedgingLSTM(input_dim=1, hidden_dim=hidden_dim)\n",
    "optimizer = torch.optim.Adam(policy.parameters(), lr=lr)\n",
    "\n",
    "# Training loop\n",
    "for epoch in range(n_epochs):\n",
    "    epoch_losses = []\n",
    "    for batch in train_loader:\n",
    "        S_batch = batch[0]\n",
    "        deltas = policy(S_batch)\n",
    "        deltas = torch.clamp(deltas, -5.0, 5.0)\n",
    "        pnl = compute_pnl_torch(S_batch, deltas, transaction_cost, strike)\n",
    "        if torch.isnan(pnl).any():\n",
    "            print(\"NaN in pnl detected!\")\n",
    "            break\n",
    "        loss = mixed_expected_shortfall(pnl, alpha, beta)\n",
    "        if torch.isnan(loss):\n",
    "            print(\"NaN in loss detected!\")\n",
    "            break\n",
    "        optimizer.zero_grad()\n",
    "        loss.backward()\n",
    "        optimizer.step()\n",
    "        epoch_losses.append(loss.item())\n",
    "    print(f\"Epoch {epoch}, MixedES Loss: {np.mean(epoch_losses):.2f}\")\n",
    "\n",
    "# Optional test evaluation\n",
    "with torch.no_grad():\n",
    "    test_S_paths = simulate_paths(N_paths=1000, N_steps=N_steps, S0=S0)\n",
    "    test_S_inputs = test_S_paths[:, :-1][..., np.newaxis] / S0\n",
    "    test_S_inputs = torch.tensor(test_S_inputs, dtype=torch.float32)\n",
    "    test_deltas = policy(test_S_inputs)\n",
    "    test_deltas = torch.clamp(test_deltas, -1.0, 1.0)\n",
    "    test_pnl = compute_pnl_torch(test_S_inputs, test_deltas, transaction_cost, strike)\n",
    "    print(f\"Test mean PnL: {test_pnl.mean().item():.2f}, Test MixedES: {mixed_expected_shortfall(test_pnl, alpha, beta).item():.2f}\")\n",
    "    plt.hist(test_pnl.numpy(), bins=50, alpha=0.7)\n",
    "    plt.title(\"Histogram of Hedged Terminal P&L\")\n",
    "    plt.xlabel(\"Terminal P&L\")\n",
    "    plt.ylabel(\"Frequency\")\n",
    "    plt.show()\n"
   ]
  }
 ],
 "metadata": {
  "kernelspec": {
   "display_name": "Python 3",
   "language": "python",
   "name": "python3"
  },
  "language_info": {
   "codemirror_mode": {
    "name": "ipython",
    "version": 3
   },
   "file_extension": ".py",
   "mimetype": "text/x-python",
   "name": "python",
   "nbconvert_exporter": "python",
   "pygments_lexer": "ipython3",
   "version": "3.11.9"
  }
 },
 "nbformat": 4,
 "nbformat_minor": 2
}
