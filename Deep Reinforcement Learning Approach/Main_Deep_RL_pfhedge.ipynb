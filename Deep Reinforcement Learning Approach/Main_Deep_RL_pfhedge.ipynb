{
 "cells": [
  {
   "cell_type": "markdown",
   "metadata": {},
   "source": [
    "# Packages"
   ]
  },
  {
   "cell_type": "code",
   "execution_count": 1,
   "metadata": {},
   "outputs": [
    {
     "name": "stdout",
     "output_type": "stream",
     "text": [
      "Requirement already satisfied: pfhedge in /Library/Frameworks/Python.framework/Versions/3.12/lib/python3.12/site-packages (0.23.0)\n",
      "Requirement already satisfied: numpy<2.0,>=1.26 in /Library/Frameworks/Python.framework/Versions/3.12/lib/python3.12/site-packages (from pfhedge) (1.26.4)\n",
      "Requirement already satisfied: torch<3.0.0,>=1.9.0 in /Library/Frameworks/Python.framework/Versions/3.12/lib/python3.12/site-packages (from pfhedge) (2.2.2)\n",
      "Requirement already satisfied: tqdm<5.0.0,>=4.62.3 in /Library/Frameworks/Python.framework/Versions/3.12/lib/python3.12/site-packages (from pfhedge) (4.67.1)\n",
      "Requirement already satisfied: filelock in /Library/Frameworks/Python.framework/Versions/3.12/lib/python3.12/site-packages (from torch<3.0.0,>=1.9.0->pfhedge) (3.17.0)\n",
      "Requirement already satisfied: typing-extensions>=4.8.0 in /Library/Frameworks/Python.framework/Versions/3.12/lib/python3.12/site-packages (from torch<3.0.0,>=1.9.0->pfhedge) (4.12.2)\n",
      "Requirement already satisfied: sympy in /Library/Frameworks/Python.framework/Versions/3.12/lib/python3.12/site-packages (from torch<3.0.0,>=1.9.0->pfhedge) (1.13.3)\n",
      "Requirement already satisfied: networkx in /Library/Frameworks/Python.framework/Versions/3.12/lib/python3.12/site-packages (from torch<3.0.0,>=1.9.0->pfhedge) (3.4.2)\n",
      "Requirement already satisfied: jinja2 in /Library/Frameworks/Python.framework/Versions/3.12/lib/python3.12/site-packages (from torch<3.0.0,>=1.9.0->pfhedge) (3.1.6)\n",
      "Requirement already satisfied: fsspec in /Library/Frameworks/Python.framework/Versions/3.12/lib/python3.12/site-packages (from torch<3.0.0,>=1.9.0->pfhedge) (2024.12.0)\n",
      "Requirement already satisfied: MarkupSafe>=2.0 in /Library/Frameworks/Python.framework/Versions/3.12/lib/python3.12/site-packages (from jinja2->torch<3.0.0,>=1.9.0->pfhedge) (3.0.2)\n",
      "Requirement already satisfied: mpmath<1.4,>=1.1.0 in /Library/Frameworks/Python.framework/Versions/3.12/lib/python3.12/site-packages (from sympy->torch<3.0.0,>=1.9.0->pfhedge) (1.3.0)\n",
      "\n",
      "\u001b[1m[\u001b[0m\u001b[34;49mnotice\u001b[0m\u001b[1;39;49m]\u001b[0m\u001b[39;49m A new release of pip is available: \u001b[0m\u001b[31;49m24.3.1\u001b[0m\u001b[39;49m -> \u001b[0m\u001b[32;49m25.1.1\u001b[0m\n",
      "\u001b[1m[\u001b[0m\u001b[34;49mnotice\u001b[0m\u001b[1;39;49m]\u001b[0m\u001b[39;49m To update, run: \u001b[0m\u001b[32;49mpip install --upgrade pip\u001b[0m\n"
     ]
    }
   ],
   "source": [
    "!pip install pfhedge"
   ]
  },
  {
   "cell_type": "code",
   "execution_count": 1,
   "metadata": {},
   "outputs": [
    {
     "name": "stderr",
     "output_type": "stream",
     "text": [
      "\n",
      "A module that was compiled using NumPy 1.x cannot be run in\n",
      "NumPy 2.3.0 as it may crash. To support both 1.x and 2.x\n",
      "versions of NumPy, modules must be compiled with NumPy 2.0.\n",
      "Some module may need to rebuild instead e.g. with 'pybind11>=2.12'.\n",
      "\n",
      "If you are a user of the module, the easiest solution will be to\n",
      "downgrade to 'numpy<2' or try to upgrade the affected module.\n",
      "We expect that some modules will need time to support NumPy 2.\n",
      "\n",
      "Traceback (most recent call last):  File \"<frozen runpy>\", line 198, in _run_module_as_main\n",
      "  File \"<frozen runpy>\", line 88, in _run_code\n",
      "  File \"/Users/julesarzel/Library/Python/3.11/lib/python/site-packages/ipykernel_launcher.py\", line 18, in <module>\n",
      "    app.launch_new_instance()\n",
      "  File \"/Users/julesarzel/Library/Python/3.11/lib/python/site-packages/traitlets/config/application.py\", line 1075, in launch_instance\n",
      "    app.start()\n",
      "  File \"/Users/julesarzel/Library/Python/3.11/lib/python/site-packages/ipykernel/kernelapp.py\", line 739, in start\n",
      "    self.io_loop.start()\n",
      "  File \"/Users/julesarzel/Library/Python/3.11/lib/python/site-packages/tornado/platform/asyncio.py\", line 205, in start\n",
      "    self.asyncio_loop.run_forever()\n",
      "  File \"/Library/Frameworks/Python.framework/Versions/3.11/lib/python3.11/asyncio/base_events.py\", line 608, in run_forever\n",
      "    self._run_once()\n",
      "  File \"/Library/Frameworks/Python.framework/Versions/3.11/lib/python3.11/asyncio/base_events.py\", line 1936, in _run_once\n",
      "    handle._run()\n",
      "  File \"/Library/Frameworks/Python.framework/Versions/3.11/lib/python3.11/asyncio/events.py\", line 84, in _run\n",
      "    self._context.run(self._callback, *self._args)\n",
      "  File \"/Users/julesarzel/Library/Python/3.11/lib/python/site-packages/ipykernel/kernelbase.py\", line 545, in dispatch_queue\n",
      "    await self.process_one()\n",
      "  File \"/Users/julesarzel/Library/Python/3.11/lib/python/site-packages/ipykernel/kernelbase.py\", line 534, in process_one\n",
      "    await dispatch(*args)\n",
      "  File \"/Users/julesarzel/Library/Python/3.11/lib/python/site-packages/ipykernel/kernelbase.py\", line 437, in dispatch_shell\n",
      "    await result\n",
      "  File \"/Users/julesarzel/Library/Python/3.11/lib/python/site-packages/ipykernel/ipkernel.py\", line 362, in execute_request\n",
      "    await super().execute_request(stream, ident, parent)\n",
      "  File \"/Users/julesarzel/Library/Python/3.11/lib/python/site-packages/ipykernel/kernelbase.py\", line 778, in execute_request\n",
      "    reply_content = await reply_content\n",
      "  File \"/Users/julesarzel/Library/Python/3.11/lib/python/site-packages/ipykernel/ipkernel.py\", line 449, in do_execute\n",
      "    res = shell.run_cell(\n",
      "  File \"/Users/julesarzel/Library/Python/3.11/lib/python/site-packages/ipykernel/zmqshell.py\", line 549, in run_cell\n",
      "    return super().run_cell(*args, **kwargs)\n",
      "  File \"/Users/julesarzel/Library/Python/3.11/lib/python/site-packages/IPython/core/interactiveshell.py\", line 3047, in run_cell\n",
      "    result = self._run_cell(\n",
      "  File \"/Users/julesarzel/Library/Python/3.11/lib/python/site-packages/IPython/core/interactiveshell.py\", line 3102, in _run_cell\n",
      "    result = runner(coro)\n",
      "  File \"/Users/julesarzel/Library/Python/3.11/lib/python/site-packages/IPython/core/async_helpers.py\", line 128, in _pseudo_sync_runner\n",
      "    coro.send(None)\n",
      "  File \"/Users/julesarzel/Library/Python/3.11/lib/python/site-packages/IPython/core/interactiveshell.py\", line 3306, in run_cell_async\n",
      "    has_raised = await self.run_ast_nodes(code_ast.body, cell_name,\n",
      "  File \"/Users/julesarzel/Library/Python/3.11/lib/python/site-packages/IPython/core/interactiveshell.py\", line 3489, in run_ast_nodes\n",
      "    if await self.run_code(code, result, async_=asy):\n",
      "  File \"/Users/julesarzel/Library/Python/3.11/lib/python/site-packages/IPython/core/interactiveshell.py\", line 3549, in run_code\n",
      "    exec(code_obj, self.user_global_ns, self.user_ns)\n",
      "  File \"/var/folders/3_/t8l3yh8s28z9_jbq7gqy7byr0000gn/T/ipykernel_62206/1556965654.py\", line 1, in <module>\n",
      "    import torch\n",
      "  File \"/Library/Frameworks/Python.framework/Versions/3.11/lib/python3.11/site-packages/torch/__init__.py\", line 1477, in <module>\n",
      "    from .functional import *  # noqa: F403\n",
      "  File \"/Library/Frameworks/Python.framework/Versions/3.11/lib/python3.11/site-packages/torch/functional.py\", line 9, in <module>\n",
      "    import torch.nn.functional as F\n",
      "  File \"/Library/Frameworks/Python.framework/Versions/3.11/lib/python3.11/site-packages/torch/nn/__init__.py\", line 1, in <module>\n",
      "    from .modules import *  # noqa: F403\n",
      "  File \"/Library/Frameworks/Python.framework/Versions/3.11/lib/python3.11/site-packages/torch/nn/modules/__init__.py\", line 35, in <module>\n",
      "    from .transformer import TransformerEncoder, TransformerDecoder, \\\n",
      "  File \"/Library/Frameworks/Python.framework/Versions/3.11/lib/python3.11/site-packages/torch/nn/modules/transformer.py\", line 20, in <module>\n",
      "    device: torch.device = torch.device(torch._C._get_default_device()),  # torch.device('cpu'),\n",
      "/Library/Frameworks/Python.framework/Versions/3.11/lib/python3.11/site-packages/torch/nn/modules/transformer.py:20: UserWarning: Failed to initialize NumPy: _ARRAY_API not found (Triggered internally at /Users/runner/work/pytorch/pytorch/pytorch/torch/csrc/utils/tensor_numpy.cpp:84.)\n",
      "  device: torch.device = torch.device(torch._C._get_default_device()),  # torch.device('cpu'),\n"
     ]
    }
   ],
   "source": [
    "import torch\n",
    "import torch.nn.functional as fn\n",
    "from torch import Tensor\n",
    "from torch.nn import Module\n",
    "import matplotlib.pyplot as plt"
   ]
  },
  {
   "cell_type": "code",
   "execution_count": 2,
   "metadata": {},
   "outputs": [],
   "source": [
    "from pfhedge.instruments import BrownianStock\n",
    "from pfhedge.instruments import EuropeanOption\n",
    "from pfhedge.nn import BlackScholes\n",
    "from pfhedge.nn import Clamp\n",
    "from pfhedge.nn import Hedger\n",
    "from pfhedge.nn import MultiLayerPerceptron\n",
    "from pfhedge.nn import EntropicRiskMeasure\n",
    "from pfhedge.nn import Hedger"
   ]
  },
  {
   "cell_type": "markdown",
   "metadata": {},
   "source": [
    "# Option characteristics"
   ]
  },
  {
   "cell_type": "code",
   "execution_count": 3,
   "metadata": {},
   "outputs": [
    {
     "data": {
      "text/plain": [
       "EuropeanOption(\n",
       "  strike=1., maturity=1\n",
       "  (underlier): BrownianStock(sigma=0.2000, cost=1.0000e-04, dt=0.0040)\n",
       ")"
      ]
     },
     "execution_count": 3,
     "metadata": {},
     "output_type": "execute_result"
    }
   ],
   "source": [
    "stock = BrownianStock(cost=1e-4)\n",
    "derivative = EuropeanOption(stock, maturity=1)\n",
    "\n",
    "derivative"
   ]
  },
  {
   "cell_type": "markdown",
   "metadata": {},
   "source": [
    "# Alternative Network Architecture"
   ]
  },
  {
   "cell_type": "code",
   "execution_count": 4,
   "metadata": {},
   "outputs": [],
   "source": [
    "class NoTransactionBandNet(Module):\n",
    "    def __init__(self, derivative):\n",
    "        super().__init__()\n",
    "\n",
    "        self.delta = BlackScholes(derivative)\n",
    "        self.mlp = MultiLayerPerceptron(out_features=2)\n",
    "        self.clamp = Clamp()\n",
    "\n",
    "    def inputs(self):\n",
    "        return self.delta.inputs() + [\"prev_hedge\"]\n",
    "\n",
    "    def forward(self, input: Tensor) -> Tensor:\n",
    "        prev_hedge = input[..., [-1]]\n",
    "\n",
    "        delta = self.delta(input[..., :-1])\n",
    "        width = self.mlp(input[..., :-1])\n",
    "\n",
    "        min = delta - fn.leaky_relu(width[..., [0]])\n",
    "        max = delta + fn.leaky_relu(width[..., [1]])\n",
    "\n",
    "        return self.clamp(prev_hedge, min=min, max=max)\n"
   ]
  },
  {
   "cell_type": "markdown",
   "metadata": {},
   "source": [
    "# Training and Pricing with the MLP"
   ]
  },
  {
   "cell_type": "code",
   "execution_count": null,
   "metadata": {},
   "outputs": [
    {
     "name": "stderr",
     "output_type": "stream",
     "text": [
      "Loss=0.0915: 100%|██████████| 200/200 [12:23<00:00,  3.72s/it]\n"
     ]
    },
    {
     "name": "stdout",
     "output_type": "stream",
     "text": [
      "Price=8.67643e-02\n"
     ]
    }
   ],
   "source": [
    "torch.manual_seed(42)\n",
    "\n",
    "# Prepare a derivative to hedge\n",
    "derivative = EuropeanOption(BrownianStock(cost=1e-4), maturity=1)\n",
    "\n",
    "# Create your hedger\n",
    "model_MLP = MultiLayerPerceptron()\n",
    "hedger_MLP = Hedger(model_MLP, [\"log_moneyness\", \"expiry_time\", \"volatility\", \"prev_hedge\"])\n",
    "\n",
    "# Fit and price\n",
    "hedger_MLP.fit(derivative, n_paths=10000, n_epochs=200)\n",
    "price_MLP = hedger_MLP.price(derivative, n_paths=10000)\n",
    "print(f\"Price={price_MLP:.5e}\")"
   ]
  },
  {
   "cell_type": "markdown",
   "metadata": {},
   "source": [
    "# Training and Pricing with the NTBN"
   ]
  },
  {
   "cell_type": "code",
   "execution_count": null,
   "metadata": {},
   "outputs": [
    {
     "name": "stderr",
     "output_type": "stream",
     "text": [
      "/Library/Frameworks/Python.framework/Versions/3.11/lib/python3.11/site-packages/torch/nn/modules/lazy.py:181: UserWarning: Lazy modules are a new feature under heavy development so changes to the API or functionality can happen at any moment.\n",
      "  warnings.warn('Lazy modules are a new feature under heavy development '\n",
      "Loss=0.0800: 100%|██████████| 200/200 [14:42<00:00,  4.41s/it]\n"
     ]
    },
    {
     "name": "stdout",
     "output_type": "stream",
     "text": [
      "Price=7.98159e-02\n"
     ]
    }
   ],
   "source": [
    "torch.manual_seed(42)\n",
    "\n",
    "# Prepare a derivative to hedge\n",
    "derivative = EuropeanOption(BrownianStock(cost=1e-4), maturity=1)\n",
    "\n",
    "# Create your hedger\n",
    "model_NTBN = NoTransactionBandNet(derivative)\n",
    "hedger_NTBN = Hedger(model_NTBN, [\"log_moneyness\", \"expiry_time\", \"volatility\", \"prev_hedge\"])\n",
    "\n",
    "# Fit and price\n",
    "hedger_NTBN.fit(derivative, n_paths=10000, n_epochs=200)\n",
    "price_NTBN = hedger_NTBN.price(derivative, n_paths=10000)\n",
    "print(f\"Price={price_NTBN:.5e}\")"
   ]
  },
  {
   "cell_type": "markdown",
   "metadata": {},
   "source": [
    "# Training of both networks for several different cost levels "
   ]
  },
  {
   "cell_type": "code",
   "execution_count": 27,
   "metadata": {},
   "outputs": [
    {
     "name": "stdout",
     "output_type": "stream",
     "text": [
      "exp de 0=1.0\n",
      "exp de -1=0.36787944117144233\n",
      "exp de -2=0.1353352832366127\n",
      "exp de -3=0.049787068367863944\n",
      "exp de -4=0.01831563888873418\n",
      "exp de -5=0.006737946999085467\n",
      "exp de -6=0.0024787521766663585\n",
      "exp de -7=0.0009118819655545162\n",
      "exp de -8=0.00033546262790251185\n",
      "exp de -9=0.00012340980408667956\n",
      "exp de -10=4.5399929762484854e-05\n"
     ]
    }
   ],
   "source": [
    "import numpy as np\n",
    "for i in range(11):\n",
    "    print(f'exp de {-i}={np.exp(-i)}')"
   ]
  },
  {
   "cell_type": "code",
   "execution_count": 47,
   "metadata": {},
   "outputs": [
    {
     "name": "stderr",
     "output_type": "stream",
     "text": [
      "/Library/Frameworks/Python.framework/Versions/3.11/lib/python3.11/site-packages/torch/nn/modules/lazy.py:181: UserWarning: Lazy modules are a new feature under heavy development so changes to the API or functionality can happen at any moment.\n",
      "  warnings.warn('Lazy modules are a new feature under heavy development '\n",
      "Loss=0.0947:   1%|          | 1/100 [00:06<10:18,  6.25s/it]\n"
     ]
    },
    {
     "ename": "KeyboardInterrupt",
     "evalue": "",
     "output_type": "error",
     "traceback": [
      "\u001b[31m---------------------------------------------------------------------------\u001b[39m",
      "\u001b[31mKeyboardInterrupt\u001b[39m                         Traceback (most recent call last)",
      "\u001b[36mCell\u001b[39m\u001b[36m \u001b[39m\u001b[32mIn[47]\u001b[39m\u001b[32m, line 7\u001b[39m\n\u001b[32m      5\u001b[39m \u001b[38;5;28mglobals\u001b[39m()[\u001b[33mf\u001b[39m\u001b[33m'\u001b[39m\u001b[33mhedger_MLP_\u001b[39m\u001b[38;5;132;01m{\u001b[39;00mi\u001b[38;5;132;01m}\u001b[39;00m\u001b[33m'\u001b[39m] = Hedger(\u001b[38;5;28mglobals\u001b[39m()[\u001b[33mf\u001b[39m\u001b[33m'\u001b[39m\u001b[33mmodel_MLP_\u001b[39m\u001b[38;5;132;01m{\u001b[39;00mi\u001b[38;5;132;01m}\u001b[39;00m\u001b[33m'\u001b[39m], [\u001b[33m\"\u001b[39m\u001b[33mlog_moneyness\u001b[39m\u001b[33m\"\u001b[39m, \u001b[33m\"\u001b[39m\u001b[33mexpiry_time\u001b[39m\u001b[33m\"\u001b[39m, \u001b[33m\"\u001b[39m\u001b[33mvolatility\u001b[39m\u001b[33m\"\u001b[39m, \u001b[33m\"\u001b[39m\u001b[33mprev_hedge\u001b[39m\u001b[33m\"\u001b[39m])\n\u001b[32m      6\u001b[39m \u001b[38;5;28mglobals\u001b[39m()[\u001b[33mf\u001b[39m\u001b[33m'\u001b[39m\u001b[33mhedger_NTBN_\u001b[39m\u001b[38;5;132;01m{\u001b[39;00mi\u001b[38;5;132;01m}\u001b[39;00m\u001b[33m'\u001b[39m] = Hedger(\u001b[38;5;28mglobals\u001b[39m()[\u001b[33mf\u001b[39m\u001b[33m'\u001b[39m\u001b[33mmodel_NTBN_\u001b[39m\u001b[38;5;132;01m{\u001b[39;00mi\u001b[38;5;132;01m}\u001b[39;00m\u001b[33m'\u001b[39m], [\u001b[33m\"\u001b[39m\u001b[33mlog_moneyness\u001b[39m\u001b[33m\"\u001b[39m, \u001b[33m\"\u001b[39m\u001b[33mexpiry_time\u001b[39m\u001b[33m\"\u001b[39m, \u001b[33m\"\u001b[39m\u001b[33mvolatility\u001b[39m\u001b[33m\"\u001b[39m, \u001b[33m\"\u001b[39m\u001b[33mprev_hedge\u001b[39m\u001b[33m\"\u001b[39m])\n\u001b[32m----> \u001b[39m\u001b[32m7\u001b[39m \u001b[38;5;28;43mglobals\u001b[39;49m\u001b[43m(\u001b[49m\u001b[43m)\u001b[49m\u001b[43m[\u001b[49m\u001b[33;43mf\u001b[39;49m\u001b[33;43m'\u001b[39;49m\u001b[33;43mhedger_MLP_\u001b[39;49m\u001b[38;5;132;43;01m{\u001b[39;49;00m\u001b[43mi\u001b[49m\u001b[38;5;132;43;01m}\u001b[39;49;00m\u001b[33;43m'\u001b[39;49m\u001b[43m]\u001b[49m\u001b[43m.\u001b[49m\u001b[43mfit\u001b[49m\u001b[43m(\u001b[49m\u001b[38;5;28;43mglobals\u001b[39;49m\u001b[43m(\u001b[49m\u001b[43m)\u001b[49m\u001b[43m[\u001b[49m\u001b[33;43mf\u001b[39;49m\u001b[33;43m'\u001b[39;49m\u001b[33;43mderivative_\u001b[39;49m\u001b[38;5;132;43;01m{\u001b[39;49;00m\u001b[43mi\u001b[49m\u001b[38;5;132;43;01m}\u001b[39;49;00m\u001b[33;43m'\u001b[39;49m\u001b[43m]\u001b[49m\u001b[43m,\u001b[49m\u001b[43m \u001b[49m\u001b[43mn_paths\u001b[49m\u001b[43m=\u001b[49m\u001b[32;43m10000\u001b[39;49m\u001b[43m,\u001b[49m\u001b[43m \u001b[49m\u001b[43mn_epochs\u001b[49m\u001b[43m=\u001b[49m\u001b[32;43m100\u001b[39;49m\u001b[43m)\u001b[49m\n\u001b[32m      8\u001b[39m \u001b[38;5;28mglobals\u001b[39m()[\u001b[33mf\u001b[39m\u001b[33m'\u001b[39m\u001b[33mhedger_NTBN_\u001b[39m\u001b[38;5;132;01m{\u001b[39;00mi\u001b[38;5;132;01m}\u001b[39;00m\u001b[33m'\u001b[39m].fit(\u001b[38;5;28mglobals\u001b[39m()[\u001b[33mf\u001b[39m\u001b[33m'\u001b[39m\u001b[33mderivative_\u001b[39m\u001b[38;5;132;01m{\u001b[39;00mi\u001b[38;5;132;01m}\u001b[39;00m\u001b[33m'\u001b[39m], n_paths=\u001b[32m10000\u001b[39m, n_epochs=\u001b[32m100\u001b[39m)\n\u001b[32m      9\u001b[39m \u001b[38;5;28mglobals\u001b[39m()[\u001b[33mf\u001b[39m\u001b[33m'\u001b[39m\u001b[33mprice_MLP_\u001b[39m\u001b[38;5;132;01m{\u001b[39;00mi\u001b[38;5;132;01m}\u001b[39;00m\u001b[33m'\u001b[39m] = \u001b[38;5;28mglobals\u001b[39m()[\u001b[33mf\u001b[39m\u001b[33m'\u001b[39m\u001b[33mhedger_MLP_\u001b[39m\u001b[38;5;132;01m{\u001b[39;00mi\u001b[38;5;132;01m}\u001b[39;00m\u001b[33m'\u001b[39m].price(derivative, n_paths=\u001b[32m10000\u001b[39m)\n",
      "\u001b[36mFile \u001b[39m\u001b[32m/Library/Frameworks/Python.framework/Versions/3.11/lib/python3.11/site-packages/pfhedge/nn/modules/hedger.py:616\u001b[39m, in \u001b[36mHedger.fit\u001b[39m\u001b[34m(self, derivative, hedge, n_epochs, n_paths, n_times, optimizer, init_state, verbose, validation, tqdm_kwargs)\u001b[39m\n\u001b[32m    614\u001b[39m \u001b[38;5;28;01mif\u001b[39;00m validation:\n\u001b[32m    615\u001b[39m     \u001b[38;5;28mself\u001b[39m.eval()\n\u001b[32m--> \u001b[39m\u001b[32m616\u001b[39m     loss = \u001b[43mcompute_loss\u001b[49m\u001b[43m(\u001b[49m\u001b[43mn_times\u001b[49m\u001b[43m=\u001b[49m\u001b[43mn_times\u001b[49m\u001b[43m,\u001b[49m\u001b[43m \u001b[49m\u001b[43menable_grad\u001b[49m\u001b[43m=\u001b[49m\u001b[38;5;28;43;01mFalse\u001b[39;49;00m\u001b[43m)\u001b[49m\n\u001b[32m    617\u001b[39m     history.append(loss.item())\n\u001b[32m    619\u001b[39m     progress.desc = \u001b[33m\"\u001b[39m\u001b[33mLoss=\u001b[39m\u001b[33m\"\u001b[39m + _format_float(\u001b[38;5;28mfloat\u001b[39m(loss.item()))\n",
      "\u001b[36mFile \u001b[39m\u001b[32m/Library/Frameworks/Python.framework/Versions/3.11/lib/python3.11/site-packages/pfhedge/nn/modules/hedger.py:595\u001b[39m, in \u001b[36mHedger.fit.<locals>.compute_loss\u001b[39m\u001b[34m(**kwargs)\u001b[39m\n\u001b[32m    594\u001b[39m \u001b[38;5;28;01mdef\u001b[39;00m\u001b[38;5;250m \u001b[39m\u001b[34mcompute_loss\u001b[39m(**kwargs: Any) -> Tensor:\n\u001b[32m--> \u001b[39m\u001b[32m595\u001b[39m     \u001b[38;5;28;01mreturn\u001b[39;00m \u001b[38;5;28;43mself\u001b[39;49m\u001b[43m.\u001b[49m\u001b[43mcompute_loss\u001b[49m\u001b[43m(\u001b[49m\n\u001b[32m    596\u001b[39m \u001b[43m        \u001b[49m\u001b[43mderivative\u001b[49m\u001b[43m,\u001b[49m\n\u001b[32m    597\u001b[39m \u001b[43m        \u001b[49m\u001b[43mhedge\u001b[49m\u001b[43m=\u001b[49m\u001b[43mhedge\u001b[49m\u001b[43m,\u001b[49m\n\u001b[32m    598\u001b[39m \u001b[43m        \u001b[49m\u001b[43mn_paths\u001b[49m\u001b[43m=\u001b[49m\u001b[43mn_paths\u001b[49m\u001b[43m,\u001b[49m\n\u001b[32m    599\u001b[39m \u001b[43m        \u001b[49m\u001b[43minit_state\u001b[49m\u001b[43m=\u001b[49m\u001b[43minit_state\u001b[49m\u001b[43m,\u001b[49m\n\u001b[32m    600\u001b[39m \u001b[43m        \u001b[49m\u001b[43m*\u001b[49m\u001b[43m*\u001b[49m\u001b[43mkwargs\u001b[49m\u001b[43m,\u001b[49m\n\u001b[32m    601\u001b[39m \u001b[43m    \u001b[49m\u001b[43m)\u001b[49m\n",
      "\u001b[36mFile \u001b[39m\u001b[32m/Library/Frameworks/Python.framework/Versions/3.11/lib/python3.11/site-packages/pfhedge/nn/modules/hedger.py:483\u001b[39m, in \u001b[36mHedger.compute_loss\u001b[39m\u001b[34m(self, derivative, hedge, n_paths, n_times, init_state, enable_grad)\u001b[39m\n\u001b[32m    480\u001b[39m         portfolio = \u001b[38;5;28mself\u001b[39m.compute_portfolio(derivative, hedge=hedge)\n\u001b[32m    481\u001b[39m         \u001b[38;5;28;01mreturn\u001b[39;00m \u001b[38;5;28mself\u001b[39m.criterion(portfolio, derivative.payoff())\n\u001b[32m--> \u001b[39m\u001b[32m483\u001b[39m     mean_loss = \u001b[43mensemble_mean\u001b[49m\u001b[43m(\u001b[49m\u001b[43m_get_loss\u001b[49m\u001b[43m,\u001b[49m\u001b[43m \u001b[49m\u001b[43mn_times\u001b[49m\u001b[43m=\u001b[49m\u001b[43mn_times\u001b[49m\u001b[43m)\u001b[49m\n\u001b[32m    485\u001b[39m \u001b[38;5;28;01mreturn\u001b[39;00m mean_loss\n",
      "\u001b[36mFile \u001b[39m\u001b[32m/Library/Frameworks/Python.framework/Versions/3.11/lib/python3.11/site-packages/pfhedge/_utils/operations.py:33\u001b[39m, in \u001b[36mensemble_mean\u001b[39m\u001b[34m(function, n_times, *args, **kwargs)\u001b[39m\n\u001b[32m     11\u001b[39m \u001b[38;5;250m\u001b[39m\u001b[33;03m\"\"\"Compute ensemble mean from function.\u001b[39;00m\n\u001b[32m     12\u001b[39m \n\u001b[32m     13\u001b[39m \u001b[33;03mArgs:\u001b[39;00m\n\u001b[32m   (...)\u001b[39m\u001b[32m     30\u001b[39m \u001b[33;03m    tensor([ 0.4236, -0.0396])\u001b[39;00m\n\u001b[32m     31\u001b[39m \u001b[33;03m\"\"\"\u001b[39;00m\n\u001b[32m     32\u001b[39m \u001b[38;5;28;01mif\u001b[39;00m n_times == \u001b[32m1\u001b[39m:\n\u001b[32m---> \u001b[39m\u001b[32m33\u001b[39m     \u001b[38;5;28;01mreturn\u001b[39;00m \u001b[43mfunction\u001b[49m\u001b[43m(\u001b[49m\u001b[43m*\u001b[49m\u001b[43margs\u001b[49m\u001b[43m,\u001b[49m\u001b[43m \u001b[49m\u001b[43m*\u001b[49m\u001b[43m*\u001b[49m\u001b[43mkwargs\u001b[49m\u001b[43m)\u001b[49m\n\u001b[32m     34\u001b[39m \u001b[38;5;28;01melse\u001b[39;00m:\n\u001b[32m     35\u001b[39m     stack = torch.stack([function(*args, **kwargs) \u001b[38;5;28;01mfor\u001b[39;00m _ \u001b[38;5;129;01min\u001b[39;00m \u001b[38;5;28mrange\u001b[39m(n_times)])\n",
      "\u001b[36mFile \u001b[39m\u001b[32m/Library/Frameworks/Python.framework/Versions/3.11/lib/python3.11/site-packages/pfhedge/nn/modules/hedger.py:479\u001b[39m, in \u001b[36mHedger.compute_loss.<locals>._get_loss\u001b[39m\u001b[34m()\u001b[39m\n\u001b[32m    478\u001b[39m \u001b[38;5;28;01mdef\u001b[39;00m\u001b[38;5;250m \u001b[39m\u001b[34m_get_loss\u001b[39m() -> Tensor:\n\u001b[32m--> \u001b[39m\u001b[32m479\u001b[39m     \u001b[43mderivative\u001b[49m\u001b[43m.\u001b[49m\u001b[43msimulate\u001b[49m\u001b[43m(\u001b[49m\u001b[43mn_paths\u001b[49m\u001b[43m=\u001b[49m\u001b[43mn_paths\u001b[49m\u001b[43m,\u001b[49m\u001b[43m \u001b[49m\u001b[43minit_state\u001b[49m\u001b[43m=\u001b[49m\u001b[43minit_state\u001b[49m\u001b[43m)\u001b[49m\n\u001b[32m    480\u001b[39m     portfolio = \u001b[38;5;28mself\u001b[39m.compute_portfolio(derivative, hedge=hedge)\n\u001b[32m    481\u001b[39m     \u001b[38;5;28;01mreturn\u001b[39;00m \u001b[38;5;28mself\u001b[39m.criterion(portfolio, derivative.payoff())\n",
      "\u001b[36mFile \u001b[39m\u001b[32m/Library/Frameworks/Python.framework/Versions/3.11/lib/python3.11/site-packages/pfhedge/instruments/derivative/base.py:90\u001b[39m, in \u001b[36mBaseDerivative.simulate\u001b[39m\u001b[34m(self, n_paths, init_state)\u001b[39m\n\u001b[32m     81\u001b[39m \u001b[38;5;250m\u001b[39m\u001b[33;03m\"\"\"Simulate time series associated with the underlier.\u001b[39;00m\n\u001b[32m     82\u001b[39m \n\u001b[32m     83\u001b[39m \u001b[33;03mArgs:\u001b[39;00m\n\u001b[32m   (...)\u001b[39m\u001b[32m     87\u001b[39m \u001b[33;03m    **kwargs: Other parameters passed to ``self.underlier.simulate()``.\u001b[39;00m\n\u001b[32m     88\u001b[39m \u001b[33;03m\"\"\"\u001b[39;00m\n\u001b[32m     89\u001b[39m \u001b[38;5;28;01mfor\u001b[39;00m underlier \u001b[38;5;129;01min\u001b[39;00m \u001b[38;5;28mself\u001b[39m.underliers():\n\u001b[32m---> \u001b[39m\u001b[32m90\u001b[39m     \u001b[43munderlier\u001b[49m\u001b[43m.\u001b[49m\u001b[43msimulate\u001b[49m\u001b[43m(\u001b[49m\n\u001b[32m     91\u001b[39m \u001b[43m        \u001b[49m\u001b[43mn_paths\u001b[49m\u001b[43m=\u001b[49m\u001b[43mn_paths\u001b[49m\u001b[43m,\u001b[49m\u001b[43m \u001b[49m\u001b[43mtime_horizon\u001b[49m\u001b[43m=\u001b[49m\u001b[38;5;28;43mself\u001b[39;49m\u001b[43m.\u001b[49m\u001b[43mmaturity\u001b[49m\u001b[43m,\u001b[49m\u001b[43m \u001b[49m\u001b[43minit_state\u001b[49m\u001b[43m=\u001b[49m\u001b[43minit_state\u001b[49m\n\u001b[32m     92\u001b[39m \u001b[43m    \u001b[49m\u001b[43m)\u001b[49m\n",
      "\u001b[36mFile \u001b[39m\u001b[32m/Library/Frameworks/Python.framework/Versions/3.11/lib/python3.11/site-packages/pfhedge/instruments/primary/brownian.py:138\u001b[39m, in \u001b[36mBrownianStock.simulate\u001b[39m\u001b[34m(self, n_paths, time_horizon, init_state)\u001b[39m\n\u001b[32m    135\u001b[39m \u001b[38;5;28;01mif\u001b[39;00m init_state \u001b[38;5;129;01mis\u001b[39;00m \u001b[38;5;28;01mNone\u001b[39;00m:\n\u001b[32m    136\u001b[39m     init_state = cast(Tuple[\u001b[38;5;28mfloat\u001b[39m], \u001b[38;5;28mself\u001b[39m.default_init_state)\n\u001b[32m--> \u001b[39m\u001b[32m138\u001b[39m spot = \u001b[43mgenerate_geometric_brownian\u001b[49m\u001b[43m(\u001b[49m\n\u001b[32m    139\u001b[39m \u001b[43m    \u001b[49m\u001b[43mn_paths\u001b[49m\u001b[43m=\u001b[49m\u001b[43mn_paths\u001b[49m\u001b[43m,\u001b[49m\n\u001b[32m    140\u001b[39m \u001b[43m    \u001b[49m\u001b[43mn_steps\u001b[49m\u001b[43m=\u001b[49m\u001b[43mceil\u001b[49m\u001b[43m(\u001b[49m\u001b[43mtime_horizon\u001b[49m\u001b[43m \u001b[49m\u001b[43m/\u001b[49m\u001b[43m \u001b[49m\u001b[38;5;28;43mself\u001b[39;49m\u001b[43m.\u001b[49m\u001b[43mdt\u001b[49m\u001b[43m \u001b[49m\u001b[43m+\u001b[49m\u001b[43m \u001b[49m\u001b[32;43m1\u001b[39;49m\u001b[43m)\u001b[49m\u001b[43m,\u001b[49m\n\u001b[32m    141\u001b[39m \u001b[43m    \u001b[49m\u001b[43minit_state\u001b[49m\u001b[43m=\u001b[49m\u001b[43minit_state\u001b[49m\u001b[43m,\u001b[49m\n\u001b[32m    142\u001b[39m \u001b[43m    \u001b[49m\u001b[43msigma\u001b[49m\u001b[43m=\u001b[49m\u001b[38;5;28;43mself\u001b[39;49m\u001b[43m.\u001b[49m\u001b[43msigma\u001b[49m\u001b[43m,\u001b[49m\n\u001b[32m    143\u001b[39m \u001b[43m    \u001b[49m\u001b[43mmu\u001b[49m\u001b[43m=\u001b[49m\u001b[38;5;28;43mself\u001b[39;49m\u001b[43m.\u001b[49m\u001b[43mmu\u001b[49m\u001b[43m,\u001b[49m\n\u001b[32m    144\u001b[39m \u001b[43m    \u001b[49m\u001b[43mdt\u001b[49m\u001b[43m=\u001b[49m\u001b[38;5;28;43mself\u001b[39;49m\u001b[43m.\u001b[49m\u001b[43mdt\u001b[49m\u001b[43m,\u001b[49m\n\u001b[32m    145\u001b[39m \u001b[43m    \u001b[49m\u001b[43mdtype\u001b[49m\u001b[43m=\u001b[49m\u001b[38;5;28;43mself\u001b[39;49m\u001b[43m.\u001b[49m\u001b[43mdtype\u001b[49m\u001b[43m,\u001b[49m\n\u001b[32m    146\u001b[39m \u001b[43m    \u001b[49m\u001b[43mdevice\u001b[49m\u001b[43m=\u001b[49m\u001b[38;5;28;43mself\u001b[39;49m\u001b[43m.\u001b[49m\u001b[43mdevice\u001b[49m\u001b[43m,\u001b[49m\n\u001b[32m    147\u001b[39m \u001b[43m\u001b[49m\u001b[43m)\u001b[49m\n\u001b[32m    149\u001b[39m \u001b[38;5;28mself\u001b[39m.register_buffer(\u001b[33m\"\u001b[39m\u001b[33mspot\u001b[39m\u001b[33m\"\u001b[39m, spot)\n",
      "\u001b[36mFile \u001b[39m\u001b[32m/Library/Frameworks/Python.framework/Versions/3.11/lib/python3.11/site-packages/pfhedge/stochastic/brownian.py:148\u001b[39m, in \u001b[36mgenerate_geometric_brownian\u001b[39m\u001b[34m(n_paths, n_steps, init_state, sigma, mu, dt, dtype, device, engine)\u001b[39m\n\u001b[32m     96\u001b[39m \u001b[38;5;250m\u001b[39m\u001b[33mr\u001b[39m\u001b[33;03m\"\"\"Returns time series following the geometric Brownian motion.\u001b[39;00m\n\u001b[32m     97\u001b[39m \n\u001b[32m     98\u001b[39m \u001b[33;03mThe time evolution of the process is given by:\u001b[39;00m\n\u001b[32m   (...)\u001b[39m\u001b[32m    144\u001b[39m \u001b[33;03m            [1.0000, 1.0282, 1.0199, 1.0258, 1.0292]])\u001b[39;00m\n\u001b[32m    145\u001b[39m \u001b[33;03m\"\"\"\u001b[39;00m\n\u001b[32m    146\u001b[39m init_state = cast_state(init_state, dtype=dtype, device=device)\n\u001b[32m--> \u001b[39m\u001b[32m148\u001b[39m brownian = \u001b[43mgenerate_brownian\u001b[49m\u001b[43m(\u001b[49m\n\u001b[32m    149\u001b[39m \u001b[43m    \u001b[49m\u001b[43mn_paths\u001b[49m\u001b[43m=\u001b[49m\u001b[43mn_paths\u001b[49m\u001b[43m,\u001b[49m\n\u001b[32m    150\u001b[39m \u001b[43m    \u001b[49m\u001b[43mn_steps\u001b[49m\u001b[43m=\u001b[49m\u001b[43mn_steps\u001b[49m\u001b[43m,\u001b[49m\n\u001b[32m    151\u001b[39m \u001b[43m    \u001b[49m\u001b[43minit_state\u001b[49m\u001b[43m=\u001b[49m\u001b[43m(\u001b[49m\u001b[32;43m0.0\u001b[39;49m\u001b[43m,\u001b[49m\u001b[43m)\u001b[49m\u001b[43m,\u001b[49m\n\u001b[32m    152\u001b[39m \u001b[43m    \u001b[49m\u001b[43msigma\u001b[49m\u001b[43m=\u001b[49m\u001b[43msigma\u001b[49m\u001b[43m,\u001b[49m\n\u001b[32m    153\u001b[39m \u001b[43m    \u001b[49m\u001b[43mmu\u001b[49m\u001b[43m=\u001b[49m\u001b[43mmu\u001b[49m\u001b[43m,\u001b[49m\n\u001b[32m    154\u001b[39m \u001b[43m    \u001b[49m\u001b[43mdt\u001b[49m\u001b[43m=\u001b[49m\u001b[43mdt\u001b[49m\u001b[43m,\u001b[49m\n\u001b[32m    155\u001b[39m \u001b[43m    \u001b[49m\u001b[43mdtype\u001b[49m\u001b[43m=\u001b[49m\u001b[43mdtype\u001b[49m\u001b[43m,\u001b[49m\n\u001b[32m    156\u001b[39m \u001b[43m    \u001b[49m\u001b[43mdevice\u001b[49m\u001b[43m=\u001b[49m\u001b[43mdevice\u001b[49m\u001b[43m,\u001b[49m\n\u001b[32m    157\u001b[39m \u001b[43m    \u001b[49m\u001b[43mengine\u001b[49m\u001b[43m=\u001b[49m\u001b[43mengine\u001b[49m\u001b[43m,\u001b[49m\n\u001b[32m    158\u001b[39m \u001b[43m\u001b[49m\u001b[43m)\u001b[49m\n\u001b[32m    159\u001b[39m t = dt * torch.arange(n_steps).to(brownian).unsqueeze(\u001b[32m0\u001b[39m)\n\u001b[32m    160\u001b[39m \u001b[38;5;28;01mreturn\u001b[39;00m init_state[\u001b[32m0\u001b[39m] * (brownian - (sigma ** \u001b[32m2\u001b[39m) * t / \u001b[32m2\u001b[39m).exp()\n",
      "\u001b[36mFile \u001b[39m\u001b[32m/Library/Frameworks/Python.framework/Versions/3.11/lib/python3.11/site-packages/pfhedge/stochastic/brownian.py:78\u001b[39m, in \u001b[36mgenerate_brownian\u001b[39m\u001b[34m(n_paths, n_steps, init_state, sigma, mu, dt, dtype, device, engine)\u001b[39m\n\u001b[32m     76\u001b[39m init_value = init_state[\u001b[32m0\u001b[39m]\n\u001b[32m     77\u001b[39m \u001b[38;5;66;03m# randn = torch.randn((n_paths, n_steps), dtype=dtype, device=device)\u001b[39;00m\n\u001b[32m---> \u001b[39m\u001b[32m78\u001b[39m randn = \u001b[43mengine\u001b[49m\u001b[43m(\u001b[49m\u001b[43m*\u001b[49m\u001b[43m(\u001b[49m\u001b[43mn_paths\u001b[49m\u001b[43m,\u001b[49m\u001b[43m \u001b[49m\u001b[43mn_steps\u001b[49m\u001b[43m)\u001b[49m\u001b[43m,\u001b[49m\u001b[43m \u001b[49m\u001b[43mdtype\u001b[49m\u001b[43m=\u001b[49m\u001b[43mdtype\u001b[49m\u001b[43m,\u001b[49m\u001b[43m \u001b[49m\u001b[43mdevice\u001b[49m\u001b[43m=\u001b[49m\u001b[43mdevice\u001b[49m\u001b[43m)\u001b[49m\n\u001b[32m     79\u001b[39m randn[:, \u001b[32m0\u001b[39m] = \u001b[32m0.0\u001b[39m\n\u001b[32m     80\u001b[39m drift = mu * dt * torch.arange(n_steps).to(randn)\n",
      "\u001b[31mKeyboardInterrupt\u001b[39m: "
     ]
    }
   ],
   "source": [
    "for i in range(2,11):\n",
    "    globals()[f'derivative_{i}'] = EuropeanOption(BrownianStock(cost=np.exp(-i)), maturity=1)\n",
    "    globals()[f'model_MLP_{i}'] = MultiLayerPerceptron()\n",
    "    globals()[f'model_NTBN_{i}'] = NoTransactionBandNet(globals()[f'derivative_{i}'])\n",
    "    globals()[f'hedger_MLP_{i}'] = Hedger(globals()[f'model_MLP_{i}'], [\"log_moneyness\", \"expiry_time\", \"volatility\", \"prev_hedge\"])\n",
    "    globals()[f'hedger_NTBN_{i}'] = Hedger(globals()[f'model_NTBN_{i}'], [\"log_moneyness\", \"expiry_time\", \"volatility\", \"prev_hedge\"])\n",
    "    globals()[f'hedger_MLP_{i}'].fit(globals()[f'derivative_{i}'], n_paths=10000, n_epochs=100)\n",
    "    globals()[f'hedger_NTBN_{i}'].fit(globals()[f'derivative_{i}'], n_paths=10000, n_epochs=100)\n",
    "    globals()[f'price_MLP_{i}'] = globals()[f'hedger_MLP_{i}'].price(derivative, n_paths=10000)\n",
    "    globals()[f'price_NTBN_{i}'] = globals()[f'hedger_NTBN_{i}'].price(derivative, n_paths=10000)"
   ]
  },
  {
   "cell_type": "code",
   "execution_count": null,
   "metadata": {},
   "outputs": [],
   "source": [
    "'''from collections import defaultdict\n",
    "\n",
    "derivatives = {}\n",
    "models_MLP = {}\n",
    "models_NTBN = {}\n",
    "hedgers_MLP = {}\n",
    "hedgers_NTBN = {}\n",
    "prices_MLP = {}\n",
    "prices_NTBN = {}\n",
    "\n",
    "for i in range(2, 11):\n",
    "    derivative = EuropeanOption(BrownianStock(cost=np.exp(-i)), maturity=1)\n",
    "    model_mlp = MultiLayerPerceptron()\n",
    "    model_ntbn = NoTransactionBandNet(derivative)\n",
    "\n",
    "    hedger_mlp = Hedger(model_mlp, [\"log_moneyness\", \"expiry_time\", \"volatility\", \"prev_hedge\"])\n",
    "    hedger_ntbn = Hedger(model_ntbn, [\"log_moneyness\", \"expiry_time\", \"volatility\", \"prev_hedge\"])\n",
    "\n",
    "    hedger_mlp.fit(derivative, n_paths=10000, n_epochs=200)\n",
    "    hedger_ntbn.fit(derivative, n_paths=10000, n_epochs=200)\n",
    "\n",
    "    # Save to dictionaries\n",
    "    derivatives[i] = derivative\n",
    "    models_MLP[i] = model_mlp\n",
    "    models_NTBN[i] = model_ntbn\n",
    "    hedgers_MLP[i] = hedger_mlp\n",
    "    hedgers_NTBN[i] = hedger_ntbn\n",
    "\n",
    "    prices_MLP[i] = hedger_mlp.price(derivative, n_paths=10000)\n",
    "    prices_NTBN[i] = hedger_ntbn.price(derivative, n_paths=10000)\n",
    "    \n",
    "    for i in range(2, 11):\n",
    "    print(f\"Cost: {np.exp(-i):.4f} | MLP Price: {prices_MLP[i]:.4f} | NTBN Price: {prices_NTBN[i]:.4f}\")'''"
   ]
  },
  {
   "cell_type": "code",
   "execution_count": 19,
   "metadata": {},
   "outputs": [
    {
     "name": "stderr",
     "output_type": "stream",
     "text": [
      "/Library/Frameworks/Python.framework/Versions/3.11/lib/python3.11/site-packages/torch/nn/modules/lazy.py:181: UserWarning: Lazy modules are a new feature under heavy development so changes to the API or functionality can happen at any moment.\n",
      "  warnings.warn('Lazy modules are a new feature under heavy development '\n",
      "/Library/Frameworks/Python.framework/Versions/3.11/lib/python3.11/site-packages/tqdm/auto.py:21: TqdmWarning: IProgress not found. Please update jupyter and ipywidgets. See https://ipywidgets.readthedocs.io/en/stable/user_install.html\n",
      "  from .autonotebook import tqdm as notebook_tqdm\n",
      "Loss=0.0807: 100%|██████████| 100/100 [04:20<00:00,  2.60s/it]\n",
      "/Library/Frameworks/Python.framework/Versions/3.11/lib/python3.11/site-packages/torch/nn/modules/lazy.py:181: UserWarning: Lazy modules are a new feature under heavy development so changes to the API or functionality can happen at any moment.\n",
      "  warnings.warn('Lazy modules are a new feature under heavy development '\n",
      "Loss=0.0797: 100%|██████████| 100/100 [06:05<00:00,  3.66s/it]\n"
     ]
    },
    {
     "data": {
      "text/plain": [
       "[0.0796213150024414,\n",
       " 0.07972145080566406,\n",
       " 0.07967376708984375,\n",
       " 0.07965469360351562,\n",
       " 0.07976055145263672,\n",
       " 0.07972908020019531,\n",
       " 0.07966995239257812,\n",
       " 0.07964611053466797,\n",
       " 0.07955360412597656,\n",
       " 0.07962322235107422,\n",
       " 0.07975101470947266,\n",
       " 0.07967090606689453,\n",
       " 0.07976055145263672,\n",
       " 0.07969379425048828,\n",
       " 0.07963752746582031,\n",
       " 0.07977676391601562,\n",
       " 0.07962989807128906,\n",
       " 0.07973384857177734,\n",
       " 0.07966995239257812,\n",
       " 0.07973766326904297,\n",
       " 0.079742431640625,\n",
       " 0.07970905303955078,\n",
       " 0.07968521118164062,\n",
       " 0.07977867126464844,\n",
       " 0.07966899871826172,\n",
       " 0.07959747314453125,\n",
       " 0.07971668243408203,\n",
       " 0.07965373992919922,\n",
       " 0.07958984375,\n",
       " 0.07961273193359375,\n",
       " 0.07954978942871094,\n",
       " 0.0797271728515625,\n",
       " 0.07965469360351562,\n",
       " 0.07967185974121094,\n",
       " 0.07964801788330078,\n",
       " 0.07967376708984375,\n",
       " 0.0796651840209961,\n",
       " 0.07966899871826172,\n",
       " 0.07968521118164062,\n",
       " 0.07970333099365234,\n",
       " 0.07962608337402344,\n",
       " 0.07964515686035156,\n",
       " 0.07965469360351562,\n",
       " 0.07965087890625,\n",
       " 0.07960224151611328,\n",
       " 0.07969856262207031,\n",
       " 0.07965755462646484,\n",
       " 0.07962703704833984,\n",
       " 0.07962703704833984,\n",
       " 0.0796976089477539,\n",
       " 0.07963371276855469,\n",
       " 0.07963085174560547,\n",
       " 0.07963180541992188,\n",
       " 0.07963085174560547,\n",
       " 0.07966995239257812,\n",
       " 0.07962417602539062,\n",
       " 0.07965373992919922,\n",
       " 0.07966899871826172,\n",
       " 0.07973289489746094,\n",
       " 0.07959365844726562,\n",
       " 0.07961463928222656,\n",
       " 0.07970523834228516,\n",
       " 0.07972145080566406,\n",
       " 0.07964229583740234,\n",
       " 0.0796804428100586,\n",
       " 0.07963180541992188,\n",
       " 0.07967662811279297,\n",
       " 0.0796670913696289,\n",
       " 0.07973480224609375,\n",
       " 0.07962417602539062,\n",
       " 0.07972145080566406,\n",
       " 0.0796957015991211,\n",
       " 0.0795907974243164,\n",
       " 0.0796670913696289,\n",
       " 0.07972145080566406,\n",
       " 0.07965087890625,\n",
       " 0.07964897155761719,\n",
       " 0.07975101470947266,\n",
       " 0.07966327667236328,\n",
       " 0.07968330383300781,\n",
       " 0.0796365737915039,\n",
       " 0.07962989807128906,\n",
       " 0.07972335815429688,\n",
       " 0.07963752746582031,\n",
       " 0.07963752746582031,\n",
       " 0.0796346664428711,\n",
       " 0.07965564727783203,\n",
       " 0.07966995239257812,\n",
       " 0.0796661376953125,\n",
       " 0.07968425750732422,\n",
       " 0.07980060577392578,\n",
       " 0.07960224151611328,\n",
       " 0.07962703704833984,\n",
       " 0.07969379425048828,\n",
       " 0.07959747314453125,\n",
       " 0.07962226867675781,\n",
       " 0.07967948913574219,\n",
       " 0.0797109603881836,\n",
       " 0.0796356201171875,\n",
       " 0.07973575592041016]"
      ]
     },
     "execution_count": 19,
     "metadata": {},
     "output_type": "execute_result"
    }
   ],
   "source": [
    "derivative_0 = EuropeanOption(BrownianStock(cost=0), maturity=1)\n",
    "model_MLP_0 = MultiLayerPerceptron()\n",
    "hedger_MLP_0 = Hedger(model_MLP_0, [\"log_moneyness\", \"expiry_time\", \"volatility\", \"prev_hedge\"])\n",
    "hedger_MLP_0.fit(derivative_0, n_paths=10000, n_epochs=100)\n",
    "model_NTBN_0 = NoTransactionBandNet(derivative_0)\n",
    "hedger_NTBN_0 = Hedger(model_NTBN_0, [\"log_moneyness\", \"expiry_time\", \"volatility\", \"prev_hedge\"])\n",
    "hedger_NTBN_0.fit(derivative_0, n_paths=10000, n_epochs=100)"
   ]
  },
  {
   "cell_type": "code",
   "execution_count": 6,
   "metadata": {},
   "outputs": [
    {
     "name": "stderr",
     "output_type": "stream",
     "text": [
      "/Library/Frameworks/Python.framework/Versions/3.11/lib/python3.11/site-packages/torch/nn/modules/lazy.py:181: UserWarning: Lazy modules are a new feature under heavy development so changes to the API or functionality can happen at any moment.\n",
      "  warnings.warn('Lazy modules are a new feature under heavy development '\n"
     ]
    }
   ],
   "source": [
    "for i in range(2,11):\n",
    "    globals()[f'derivative_{i}'] = EuropeanOption(BrownianStock(cost=np.exp(-i)), maturity=1)\n",
    "    globals()[f'model_MLP_{i}'] = MultiLayerPerceptron()\n",
    "    globals()[f'model_NTBN_{i}'] = NoTransactionBandNet(globals()[f'derivative_{i}'])\n",
    "    globals()[f'hedger_MLP_{i}'] = Hedger(globals()[f'model_MLP_{i}'], [\"log_moneyness\", \"expiry_time\", \"volatility\", \"prev_hedge\"])\n",
    "    globals()[f'hedger_NTBN_{i}'] = Hedger(globals()[f'model_NTBN_{i}'], [\"log_moneyness\", \"expiry_time\", \"volatility\", \"prev_hedge\"])\n",
    "    globals()[f'hedger_MLP_{i}'].load_state_dict(torch.load(f'MLP_{i}.pth'))\n",
    "    globals()[f'hedger_NTBN_{i}'].load_state_dict(torch.load(f'NTBN_{i}.pth'))"
   ]
  },
  {
   "cell_type": "code",
   "execution_count": 16,
   "metadata": {},
   "outputs": [],
   "source": [
    "price_MLP = []\n",
    "price_NTBN = []\n",
    "for i in range(2,11):\n",
    "    globals()[f'hedger_MLP_{i}'].eval()\n",
    "    globals()[f'hedger_NTBN_{i}'].eval()\n",
    "    price_MLP.append(eval(f'hedger_MLP_{i}').price(derivative, n_paths=10000, n_times = 10).item())\n",
    "    price_NTBN.append(eval(f'hedger_MLP_{i}').price(derivative, n_paths=10000, n_times = 10).item())\n"
   ]
  },
  {
   "cell_type": "code",
   "execution_count": 17,
   "metadata": {},
   "outputs": [
    {
     "data": {
      "image/png": "[encoded data removed]",
      "text/plain": [
       "<Figure size 640x480 with 1 Axes>"
      ]
     },
     "metadata": {},
     "output_type": "display_data"
    }
   ],
   "source": [
    "plt.plot(price_MLP)\n",
    "plt.plot(price_NTBN)\n",
    "plt.show()"
   ]
  },
  {
   "cell_type": "code",
   "execution_count": null,
   "metadata": {},
   "outputs": [
    {
     "ename": "TypeError",
     "evalue": "unsupported operand type(s) for -: 'list' and 'float'",
     "output_type": "error",
     "traceback": [
      "\u001b[31m---------------------------------------------------------------------------\u001b[39m",
      "\u001b[31mTypeError\u001b[39m                                 Traceback (most recent call last)",
      "\u001b[36mCell\u001b[39m\u001b[36m \u001b[39m\u001b[32mIn[20]\u001b[39m\u001b[32m, line 3\u001b[39m\n\u001b[32m      1\u001b[39m price_MLP_0 = hedger_MLP_0.price(derivative_0, n_paths=\u001b[32m10000\u001b[39m, n_times=\u001b[32m100\u001b[39m).item()\n\u001b[32m      2\u001b[39m price_NTBN_0 = hedger_NTBN_0.price(derivative_0, n_paths=\u001b[32m10000\u001b[39m, n_times=\u001b[32m100\u001b[39m).item()\n\u001b[32m----> \u001b[39m\u001b[32m3\u001b[39m price_spread_MLP = \u001b[43mprice_MLP\u001b[49m\u001b[43m \u001b[49m\u001b[43m-\u001b[49m\u001b[43m \u001b[49m\u001b[43mprice_MLP_0\u001b[49m\n\u001b[32m      4\u001b[39m price_spread_NTBN = price_NTBN - price_NTBN_0\n",
      "\u001b[31mTypeError\u001b[39m: unsupported operand type(s) for -: 'list' and 'float'"
     ]
    }
   ],
   "source": [
    "price_MLP_0 = hedger_MLP_0.price(derivative_0, n_paths=10000, n_times=100).item()\n",
    "price_NTBN_0 = hedger_NTBN_0.price(derivative_0, n_paths=10000, n_times=100).item()"
   ]
  },
  {
   "cell_type": "code",
   "execution_count": 36,
   "metadata": {},
   "outputs": [
    {
     "data": {
      "image/png": "[encoded data removed]",
      "text/plain": [
       "<Figure size 640x480 with 1 Axes>"
      ]
     },
     "metadata": {},
     "output_type": "display_data"
    }
   ],
   "source": [
    "price_spread_MLP = np.array(price_MLP) - price_MLP_0\n",
    "price_spread_NTBN = np.array(price_NTBN) - price_NTBN_0\n",
    "plt.plot(list(range(-10, -1)),price_spread_MLP[::-1], 'o-', label='MLP')\n",
    "plt.plot(list(range(-10, -1)),price_spread_NTBN[::-1], 'o-', label='NTBN')\n",
    "plt.ylabel('Price Spread')\n",
    "plt.xlabel(r'$e^x$ (from 0.0000453 to 0.135)')\n",
    "plt.title('Price spread for different transaction cost level (0.08 for 0% tc)')\n",
    "plt.legend()\n",
    "plt.show()"
   ]
  }
 ],
 "metadata": {
  "kernelspec": {
   "display_name": "Python 3",
   "language": "python",
   "name": "python3"
  },
  "language_info": {
   "codemirror_mode": {
    "name": "ipython",
    "version": 3
   },
   "file_extension": ".py",
   "mimetype": "text/x-python",
   "name": "python",
   "nbconvert_exporter": "python",
   "pygments_lexer": "ipython3",
   "version": "3.11.9"
  }
 },
 "nbformat": 4,
 "nbformat_minor": 2
}
