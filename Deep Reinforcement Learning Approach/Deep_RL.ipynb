{
 "cells": [
  {
   "cell_type": "markdown",
   "metadata": {},
   "source": [
    "# **Deep Hedging**"
   ]
  },
  {
   "cell_type": "markdown",
   "metadata": {},
   "source": [
    "This notebook aims at implementing Deep Hedging to showcase the effect of transaction costs on the hedging and pricing of an option, the easiest way possible for now"
   ]
  },
  {
   "cell_type": "markdown",
   "metadata": {},
   "source": [
    "To do so, we simulate paths of an asset following a Geometric Brownian Motion, we define a portfolio consisting of shares in this asset and a short position in a call option and we try to maximize the expected utility of the termianl wealth in the portfolio, by controling the number of shares in the portfolio"
   ]
  },
  {
   "cell_type": "markdown",
   "metadata": {},
   "source": [
    "In Deep hedging, the control is chosen by a neural network policy which will be trained by Monte Carlo simulations"
   ]
  },
  {
   "cell_type": "code",
   "execution_count": 19,
   "metadata": {},
   "outputs": [],
   "source": [
    "import numpy as np\n",
    "import torch\n",
    "import torch.nn as nn\n",
    "import pandas as pd\n",
    "import matplotlib.pyplot as plt\n",
    "from scipy.stats import norm\n",
    "from torch.distributions.normal import Normal"
   ]
  },
  {
   "cell_type": "code",
   "execution_count": 2,
   "metadata": {},
   "outputs": [],
   "source": [
    "# Parameters\n",
    "gamma = 1 # Risk aversion parameter\n",
    "lambda_tc = 0.0001 # Proportional transaction costs \n",
    "# --- Underlying parameters ---\n",
    "S0 = 100\n",
    "mu = 0.0\n",
    "sigma = 0.2\n",
    "# -----------------------------\n",
    "# --- Option parameters ---\n",
    "T = 1.0\n",
    "strike = 100\n",
    "N_steps = 250\n",
    "# -------------------------\n",
    "# --- Policy parameters ---\n",
    "clip_trade = 10.0\n",
    "clip_pos = 100.0\n",
    "batch_size = 64\n",
    "epochs = 200\n",
    "# -------------------------"
   ]
  },
  {
   "cell_type": "code",
   "execution_count": 23,
   "metadata": {},
   "outputs": [],
   "source": [
    "# ---------------------------------------------------------\n",
    "# Underlying path simulation\n",
    "# ---------------------------------------------------------\n",
    "def simulate_gbm(S0, mu, sigma, T, N_steps, batch_size):\n",
    "    dt = T / N_steps\n",
    "    S = np.full((batch_size, N_steps+1), S0)\n",
    "    for t in range(1, N_steps+1):\n",
    "        z = np.random.randn(batch_size)\n",
    "        S[:, t] = S[:, t-1] * np.exp((mu - 0.5 * sigma**2)*dt + sigma*np.sqrt(dt)*z)\n",
    "    return S  # shape: [batch_size, N_steps+1]\n",
    "\n",
    "# ---------------------------------------------------------\n",
    "# Utility function\n",
    "# ---------------------------------------------------------\n",
    "def cara_utility(w, gamma):\n",
    "    exp_arg = torch.clamp(-gamma * w, min=-100, max=100)\n",
    "    utility = - torch.exp(exp_arg)\n",
    "    return utility\n",
    "\n",
    "# ---------------------------------------------------------\n",
    "# BS Delta for initialization\n",
    "# ---------------------------------------------------------\n",
    "def bs_call_delta(S, K, sigma, T, t):\n",
    "    # Ensure tau is a tensor\n",
    "    tau = torch.tensor(T - t, dtype=S.dtype, device=S.device)\n",
    "    tau = torch.clamp(tau, min=1e-8)  # Now tau is a tensor and clamping works\n",
    "    d1 = (torch.log(S / K) + 0.5 * sigma**2 * tau) / (sigma * torch.sqrt(tau))\n",
    "    normal = Normal(0.0, 1.0)\n",
    "    return normal.cdf(d1)\n",
    "\n",
    "\n",
    "# ---------------------------------------------------------\n",
    "# Computation of the terminal wealth for a path and policy \n",
    "# ---------------------------------------------------------\n",
    "def compute_terminal_wealth(S_path, trades, strike, lambda_tc):\n",
    "    y = 0\n",
    "    cash = 0\n",
    "    for t in range(len(trades)):\n",
    "        d_y = trades[t]\n",
    "        price = S_path[t]\n",
    "        cost = lambda_tc * abs(d_y) * price\n",
    "        cash -= d_y * price + cost\n",
    "        y += d_y\n",
    "    # At expiry\n",
    "    S_T = S_path[-1]\n",
    "    # Liquidate\n",
    "    cash += y * S_T - lambda_tc * abs(y) * S_T\n",
    "    # Payoff (short call)\n",
    "    payoff = max(S_T - strike, 0)\n",
    "    return cash - payoff\n",
    "\n",
    "def compute_terminal_wealth_no_option(S_path, trades, lambda_tc):\n",
    "    y = 0\n",
    "    cash = 0\n",
    "    for t in range(len(trades)):\n",
    "        d_y = trades[t]\n",
    "        price = S_path[t]\n",
    "        cost = lambda_tc * abs(d_y) * price\n",
    "        cash -= d_y * price + cost\n",
    "        y += d_y\n",
    "    # At expiry\n",
    "    S_T = S_path[-1]\n",
    "    # Liquidate \n",
    "    cash += y * S_T - lambda_tc * abs(y) * S_T\n",
    "    return cash\n"
   ]
  },
  {
   "cell_type": "code",
   "execution_count": 14,
   "metadata": {},
   "outputs": [],
   "source": [
    "# ---------------------------------------------------------\n",
    "# Policy Neural Network : A simple Feed Forward Network\n",
    "# ---------------------------------------------------------\n",
    "class SimplePolicyNet(nn.Module):\n",
    "    def __init__(self):\n",
    "        super().__init__()\n",
    "        self.fc = nn.Sequential(\n",
    "            nn.Linear(4, 32),\n",
    "            nn.ReLU(),\n",
    "            nn.Linear(32, 32),\n",
    "            nn.ReLU(),\n",
    "            nn.Linear(32, 32),\n",
    "            nn.ReLU(),\n",
    "            nn.Linear(32, 32),\n",
    "            nn.ReLU(),\n",
    "            nn.Linear(32,1)\n",
    "        )\n",
    "    def forward(self, x):\n",
    "        return self.fc(x)"
   ]
  },
  {
   "cell_type": "code",
   "execution_count": 21,
   "metadata": {},
   "outputs": [],
   "source": [
    "# ---------------------------------------------------------\n",
    "# Training function, takes option as input, to be able to train with and without the option\n",
    "# ---------------------------------------------------------\n",
    "\n",
    "\n",
    "def train(policy, optimizer, epochs, option=True):\n",
    "    utility_history = []\n",
    "    wealth_history = []\n",
    "    loss_history = []\n",
    "    for epoch in range(epochs):\n",
    "        # Simulate batch of paths\n",
    "        S_paths = simulate_gbm(S0, mu, sigma, T, N_steps, batch_size)\n",
    "        S_paths = torch.tensor(S_paths, dtype=torch.float32)\n",
    "\n",
    "        y = torch.zeros(batch_size)\n",
    "        trades = []\n",
    "        for t in range(N_steps):\n",
    "            price = S_paths[:, t]\n",
    "            time_feat = torch.full((batch_size, 1), t/N_steps)\n",
    "            y_feat = y.unsqueeze(1)\n",
    "            delta = bs_call_delta(price.unsqueeze(1), strike, sigma, T, t)\n",
    "            x = torch.cat([price.unsqueeze(1)/S0, time_feat, y_feat, delta], dim=1)\n",
    "            d_y = policy(x).squeeze(1)\n",
    "            d_y = torch.clamp(d_y, -clip_trade, clip_trade)\n",
    "            trades.append(d_y)\n",
    "            y = torch.clamp(y + d_y, -clip_pos, clip_pos)\n",
    "\n",
    "        cash = torch.zeros(batch_size)\n",
    "        y = torch.zeros(batch_size)\n",
    "        for t in range(N_steps):\n",
    "            d_y = trades[t]\n",
    "            price = S_paths[:, t]\n",
    "            cost = lambda_tc * torch.abs(d_y) * price\n",
    "            cash = cash - d_y * price - cost\n",
    "            y = torch.clamp(y + d_y, -clip_pos, clip_pos)\n",
    "        S_T = S_paths[:, -1]\n",
    "        cash = cash + y * S_T - lambda_tc * torch.abs(y) * S_T\n",
    "        payoff = torch.relu(S_T - strike)\n",
    "        if option:\n",
    "            terminal_wealth = cash - payoff\n",
    "        else:\n",
    "            terminal_wealth = cash\n",
    "        terminal_wealth = torch.clamp(terminal_wealth, min=-200, max=200)\n",
    "        utility = - torch.exp(-gamma * terminal_wealth)\n",
    "        loss = -utility.mean()\n",
    "\n",
    "        optimizer.zero_grad()\n",
    "        loss.backward()\n",
    "        optimizer.step()\n",
    "        utility_history.append(utility.mean().item())\n",
    "        wealth_history.append(terminal_wealth.mean().item())\n",
    "        loss_history.append(loss.item())\n",
    "        if epoch % 100 == 0:\n",
    "            print(f\"Epoch {epoch}: loss = {loss:.4f}, mean terminal wealth = {terminal_wealth.mean().item():.2f}\")\n",
    "\n",
    "    plt.plot(loss_history)\n",
    "    plt.xlabel('Epochs')\n",
    "    plt.ylabel(f'Loss (-E(U)), with option = {option}')\n",
    "    plt.show()\n",
    "    return utility_history, wealth_history\n"
   ]
  },
  {
   "cell_type": "markdown",
   "metadata": {},
   "source": [
    "## Here we first train the two models to align with BS delta hedging or to do nothing (no option case), so there isn't problems regarding initialization"
   ]
  },
  {
   "cell_type": "code",
   "execution_count": null,
   "metadata": {},
   "outputs": [
    {
     "name": "stderr",
     "output_type": "stream",
     "text": [
      "/Library/Frameworks/Python.framework/Versions/3.11/lib/python3.11/site-packages/tqdm/auto.py:21: TqdmWarning: IProgress not found. Please update jupyter and ipywidgets. See https://ipywidgets.readthedocs.io/en/stable/user_install.html\n",
      "  from .autonotebook import tqdm as notebook_tqdm\n"
     ]
    },
    {
     "name": "stdout",
     "output_type": "stream",
     "text": [
      "Epoch 0: Initialization loss = 0.267418\n",
      "Epoch 100: Initialization loss = 0.009044\n",
      "Epoch 0: Zero initialization loss = 0.035084\n",
      "Epoch 100: Zero initialization loss = 0.000008\n"
     ]
    }
   ],
   "source": [
    "'''S_grid = np.linspace(0.5*S0, 1.5*S0, 100)\n",
    "t_grid = np.linspace(0, T, N_steps+1)\n",
    "y_grid = np.array([0.0])  # Usually zero initial hedge\n",
    "\n",
    "inputs = []\n",
    "deltas = []\n",
    "\n",
    "for t in t_grid:\n",
    "    for S in S_grid:\n",
    "        delta = bs_call_delta(S, strike, sigma, T, t)\n",
    "        inputs.append([S/S0, t/T, 0.0])  # Normalized inputs as used in your NN\n",
    "        deltas.append(delta)\n",
    "        \n",
    "inputs_tensor = torch.tensor(inputs, dtype=torch.float32)\n",
    "deltas_tensor = torch.tensor(deltas, dtype=torch.float32).unsqueeze(1)\n",
    "\n",
    "policy = SimplePolicyNet()\n",
    "criterion = nn.MSELoss()\n",
    "optimizer = torch.optim.Adam(policy.parameters(), lr=1e-3)\n",
    "\n",
    "# Short supervised training (initialization only)\n",
    "epochs_init = 200  # short training to approximate delta\n",
    "\n",
    "for epoch in range(epochs_init):\n",
    "    optimizer.zero_grad()\n",
    "    outputs = policy(inputs_tensor)\n",
    "    loss = criterion(outputs, deltas_tensor)\n",
    "    loss.backward()\n",
    "    optimizer.step()\n",
    "\n",
    "    if epoch % 100 == 0:\n",
    "        print(f\"Epoch {epoch}: Initialization loss = {loss.item():.6f}\")\n",
    "\n",
    "\n",
    "inputs_zero = inputs_tensor\n",
    "outputs_zero = torch.zeros_like(deltas_tensor)\n",
    "\n",
    "policy_no_option = SimplePolicyNet()\n",
    "optimizer_no_option = torch.optim.Adam(policy_no_option.parameters(), lr=1e-3)\n",
    "\n",
    "epochs_init_zero = 200\n",
    "\n",
    "for epoch in range(epochs_init_zero):\n",
    "    optimizer_no_option.zero_grad()\n",
    "    outputs = policy_no_option(inputs_zero)\n",
    "    loss = criterion(outputs, outputs_zero)\n",
    "    loss.backward()\n",
    "    optimizer_no_option.step()\n",
    "\n",
    "    if epoch % 100 == 0:\n",
    "        print(f\"Epoch {epoch}: Zero initialization loss = {loss.item():.6f}\")'''\n"
   ]
  },
  {
   "cell_type": "code",
   "execution_count": 24,
   "metadata": {},
   "outputs": [
    {
     "name": "stdout",
     "output_type": "stream",
     "text": [
      "Epoch 0: loss = inf, mean terminal wealth = -186.96\n",
      "Epoch 100: loss = nan, mean terminal wealth = nan\n"
     ]
    },
    {
     "data": {
      "image/png": "[encoded data removed]",
      "text/plain": [
       "<Figure size 640x480 with 1 Axes>"
      ]
     },
     "metadata": {},
     "output_type": "display_data"
    },
    {
     "name": "stdout",
     "output_type": "stream",
     "text": [
      "Epoch 0: loss = -0.0000, mean terminal wealth = 200.00\n",
      "Epoch 100: loss = -0.0000, mean terminal wealth = 200.00\n"
     ]
    },
    {
     "data": {
      "image/png": "[encoded data removed]",
      "text/plain": [
       "<Figure size 640x480 with 1 Axes>"
      ]
     },
     "metadata": {},
     "output_type": "display_data"
    }
   ],
   "source": [
    "# ---------------------------------------------------------\n",
    "# Training \n",
    "# ---------------------------------------------------------\n",
    "policy = SimplePolicyNet()\n",
    "policy_no_option = SimplePolicyNet()\n",
    "\n",
    "policy = policy\n",
    "optimizer = torch.optim.Adam(policy.parameters(), lr=1e-5)\n",
    "utility_with, wealth_with = train(policy, optimizer, epochs=epochs, option=True)\n",
    "\n",
    "policy_no_option = policy_no_option\n",
    "optimizer_without = torch.optim.Adam(policy_no_option.parameters(), lr=1e-5)\n",
    "utility_without, wealth_without = train(policy_no_option, optimizer, epochs, option=False)"
   ]
  },
  {
   "cell_type": "code",
   "execution_count": 11,
   "metadata": {},
   "outputs": [
    {
     "data": {
      "image/png": "[encoded data removed]",
      "text/plain": [
       "<Figure size 640x480 with 1 Axes>"
      ]
     },
     "metadata": {},
     "output_type": "display_data"
    }
   ],
   "source": [
    "plt.hist(wealth_with[epochs-1000:], bins=100)\n",
    "plt.title(\"Distribution of Terminal Wealth (last 1000 epochs)\")\n",
    "plt.xlabel(\"Terminal Wealth\")\n",
    "plt.ylabel(\"Frequency\")\n",
    "plt.show()\n"
   ]
  },
  {
   "cell_type": "code",
   "execution_count": 12,
   "metadata": {},
   "outputs": [],
   "source": [
    "# ---------------------------------------------------------\n",
    "# Evaluate function, to run simulations with the trained policy\n",
    "# ---------------------------------------------------------\n",
    "\n",
    "def evaluate(policy, n_paths=10000, option=True):\n",
    "    policy.eval()  # set policy to evaluation mode (good practice)\n",
    "    with torch.no_grad():\n",
    "        S_paths = simulate_gbm(S0, mu, sigma, T, N_steps, n_paths)\n",
    "        S_paths = torch.tensor(S_paths, dtype=torch.float32)\n",
    "\n",
    "        y = torch.zeros(n_paths)\n",
    "        trades = []\n",
    "        for t in range(N_steps):\n",
    "            price = S_paths[:, t]\n",
    "            time_feat = torch.full((n_paths, 1), t/N_steps)\n",
    "            y_feat = y.unsqueeze(1)\n",
    "            x = torch.cat([price.unsqueeze(1)/S0, time_feat, y_feat], dim=1)\n",
    "            d_y = policy(x).squeeze(1)\n",
    "            d_y = torch.clamp(d_y, -clip_trade, clip_trade)\n",
    "            trades.append(d_y)\n",
    "            y = torch.clamp(y + d_y, -clip_pos, clip_pos)\n",
    "\n",
    "        cash = torch.zeros(n_paths)\n",
    "        y = torch.zeros(n_paths)\n",
    "        for t in range(N_steps):\n",
    "            d_y = trades[t]\n",
    "            price = S_paths[:, t]\n",
    "            cost = lambda_tc * torch.abs(d_y) * price\n",
    "            cash = cash - d_y * price - cost\n",
    "            y = torch.clamp(y + d_y, -clip_pos, clip_pos)\n",
    "        S_T = S_paths[:, -1]\n",
    "        cash = cash + y * S_T - lambda_tc * torch.abs(y) * S_T\n",
    "        payoff = torch.relu(S_T - strike)\n",
    "        if option:\n",
    "            terminal_wealth = cash - payoff\n",
    "        else:\n",
    "            terminal_wealth = cash\n",
    "        terminal_wealth = torch.clamp(terminal_wealth, min=-1e3, max=1e3)\n",
    "        utility = - torch.exp(-gamma * terminal_wealth)\n",
    "        # Return full batch for statistical estimation\n",
    "        return terminal_wealth.numpy(), utility.numpy()\n"
   ]
  },
  {
   "cell_type": "code",
   "execution_count": 25,
   "metadata": {},
   "outputs": [
    {
     "ename": "RuntimeError",
     "evalue": "mat1 and mat2 shapes cannot be multiplied (10000x3 and 4x32)",
     "output_type": "error",
     "traceback": [
      "\u001b[31m---------------------------------------------------------------------------\u001b[39m",
      "\u001b[31mRuntimeError\u001b[39m                              Traceback (most recent call last)",
      "\u001b[36mCell\u001b[39m\u001b[36m \u001b[39m\u001b[32mIn[25]\u001b[39m\u001b[32m, line 40\u001b[39m\n\u001b[32m     37\u001b[39m         \u001b[38;5;28;01mreturn\u001b[39;00m exp_util.mean().item()\n\u001b[32m     39\u001b[39m \u001b[38;5;66;03m# After training both policies\u001b[39;00m\n\u001b[32m---> \u001b[39m\u001b[32m40\u001b[39m V_H = \u001b[43mexpected_exp_utility\u001b[49m\u001b[43m(\u001b[49m\u001b[43mpolicy\u001b[49m\u001b[43m,\u001b[49m\u001b[43m \u001b[49m\u001b[43moption\u001b[49m\u001b[43m=\u001b[49m\u001b[38;5;28;43;01mTrue\u001b[39;49;00m\u001b[43m,\u001b[49m\u001b[43m \u001b[49m\u001b[43mn_paths\u001b[49m\u001b[43m=\u001b[49m\u001b[32;43m10000\u001b[39;49m\u001b[43m)\u001b[49m\n\u001b[32m     41\u001b[39m V_0 = expected_exp_utility(policy_no_option, option=\u001b[38;5;28;01mFalse\u001b[39;00m, n_paths=\u001b[32m10000\u001b[39m)\n\u001b[32m     43\u001b[39m p_star = (\u001b[32m1\u001b[39m/gamma) * np.log(V_0 / V_H)\n",
      "\u001b[36mCell\u001b[39m\u001b[36m \u001b[39m\u001b[32mIn[25]\u001b[39m\u001b[32m, line 16\u001b[39m, in \u001b[36mexpected_exp_utility\u001b[39m\u001b[34m(policy, option, n_paths)\u001b[39m\n\u001b[32m     14\u001b[39m y_feat = y.unsqueeze(\u001b[32m1\u001b[39m)\n\u001b[32m     15\u001b[39m x = torch.cat([price.unsqueeze(\u001b[32m1\u001b[39m)/S0, time_feat, y_feat], dim=\u001b[32m1\u001b[39m)\n\u001b[32m---> \u001b[39m\u001b[32m16\u001b[39m d_y = \u001b[43mpolicy\u001b[49m\u001b[43m(\u001b[49m\u001b[43mx\u001b[49m\u001b[43m)\u001b[49m.squeeze(\u001b[32m1\u001b[39m)\n\u001b[32m     17\u001b[39m d_y = torch.clamp(d_y, -clip_trade, clip_trade)\n\u001b[32m     18\u001b[39m trades.append(d_y)\n",
      "\u001b[36mFile \u001b[39m\u001b[32m/Library/Frameworks/Python.framework/Versions/3.11/lib/python3.11/site-packages/torch/nn/modules/module.py:1511\u001b[39m, in \u001b[36mModule._wrapped_call_impl\u001b[39m\u001b[34m(self, *args, **kwargs)\u001b[39m\n\u001b[32m   1509\u001b[39m     \u001b[38;5;28;01mreturn\u001b[39;00m \u001b[38;5;28mself\u001b[39m._compiled_call_impl(*args, **kwargs)  \u001b[38;5;66;03m# type: ignore[misc]\u001b[39;00m\n\u001b[32m   1510\u001b[39m \u001b[38;5;28;01melse\u001b[39;00m:\n\u001b[32m-> \u001b[39m\u001b[32m1511\u001b[39m     \u001b[38;5;28;01mreturn\u001b[39;00m \u001b[38;5;28;43mself\u001b[39;49m\u001b[43m.\u001b[49m\u001b[43m_call_impl\u001b[49m\u001b[43m(\u001b[49m\u001b[43m*\u001b[49m\u001b[43margs\u001b[49m\u001b[43m,\u001b[49m\u001b[43m \u001b[49m\u001b[43m*\u001b[49m\u001b[43m*\u001b[49m\u001b[43mkwargs\u001b[49m\u001b[43m)\u001b[49m\n",
      "\u001b[36mFile \u001b[39m\u001b[32m/Library/Frameworks/Python.framework/Versions/3.11/lib/python3.11/site-packages/torch/nn/modules/module.py:1520\u001b[39m, in \u001b[36mModule._call_impl\u001b[39m\u001b[34m(self, *args, **kwargs)\u001b[39m\n\u001b[32m   1515\u001b[39m \u001b[38;5;66;03m# If we don't have any hooks, we want to skip the rest of the logic in\u001b[39;00m\n\u001b[32m   1516\u001b[39m \u001b[38;5;66;03m# this function, and just call forward.\u001b[39;00m\n\u001b[32m   1517\u001b[39m \u001b[38;5;28;01mif\u001b[39;00m \u001b[38;5;129;01mnot\u001b[39;00m (\u001b[38;5;28mself\u001b[39m._backward_hooks \u001b[38;5;129;01mor\u001b[39;00m \u001b[38;5;28mself\u001b[39m._backward_pre_hooks \u001b[38;5;129;01mor\u001b[39;00m \u001b[38;5;28mself\u001b[39m._forward_hooks \u001b[38;5;129;01mor\u001b[39;00m \u001b[38;5;28mself\u001b[39m._forward_pre_hooks\n\u001b[32m   1518\u001b[39m         \u001b[38;5;129;01mor\u001b[39;00m _global_backward_pre_hooks \u001b[38;5;129;01mor\u001b[39;00m _global_backward_hooks\n\u001b[32m   1519\u001b[39m         \u001b[38;5;129;01mor\u001b[39;00m _global_forward_hooks \u001b[38;5;129;01mor\u001b[39;00m _global_forward_pre_hooks):\n\u001b[32m-> \u001b[39m\u001b[32m1520\u001b[39m     \u001b[38;5;28;01mreturn\u001b[39;00m \u001b[43mforward_call\u001b[49m\u001b[43m(\u001b[49m\u001b[43m*\u001b[49m\u001b[43margs\u001b[49m\u001b[43m,\u001b[49m\u001b[43m \u001b[49m\u001b[43m*\u001b[49m\u001b[43m*\u001b[49m\u001b[43mkwargs\u001b[49m\u001b[43m)\u001b[49m\n\u001b[32m   1522\u001b[39m \u001b[38;5;28;01mtry\u001b[39;00m:\n\u001b[32m   1523\u001b[39m     result = \u001b[38;5;28;01mNone\u001b[39;00m\n",
      "\u001b[36mCell\u001b[39m\u001b[36m \u001b[39m\u001b[32mIn[14]\u001b[39m\u001b[32m, line 19\u001b[39m, in \u001b[36mSimplePolicyNet.forward\u001b[39m\u001b[34m(self, x)\u001b[39m\n\u001b[32m     18\u001b[39m \u001b[38;5;28;01mdef\u001b[39;00m\u001b[38;5;250m \u001b[39m\u001b[34mforward\u001b[39m(\u001b[38;5;28mself\u001b[39m, x):\n\u001b[32m---> \u001b[39m\u001b[32m19\u001b[39m     \u001b[38;5;28;01mreturn\u001b[39;00m \u001b[38;5;28;43mself\u001b[39;49m\u001b[43m.\u001b[49m\u001b[43mfc\u001b[49m\u001b[43m(\u001b[49m\u001b[43mx\u001b[49m\u001b[43m)\u001b[49m\n",
      "\u001b[36mFile \u001b[39m\u001b[32m/Library/Frameworks/Python.framework/Versions/3.11/lib/python3.11/site-packages/torch/nn/modules/module.py:1511\u001b[39m, in \u001b[36mModule._wrapped_call_impl\u001b[39m\u001b[34m(self, *args, **kwargs)\u001b[39m\n\u001b[32m   1509\u001b[39m     \u001b[38;5;28;01mreturn\u001b[39;00m \u001b[38;5;28mself\u001b[39m._compiled_call_impl(*args, **kwargs)  \u001b[38;5;66;03m# type: ignore[misc]\u001b[39;00m\n\u001b[32m   1510\u001b[39m \u001b[38;5;28;01melse\u001b[39;00m:\n\u001b[32m-> \u001b[39m\u001b[32m1511\u001b[39m     \u001b[38;5;28;01mreturn\u001b[39;00m \u001b[38;5;28;43mself\u001b[39;49m\u001b[43m.\u001b[49m\u001b[43m_call_impl\u001b[49m\u001b[43m(\u001b[49m\u001b[43m*\u001b[49m\u001b[43margs\u001b[49m\u001b[43m,\u001b[49m\u001b[43m \u001b[49m\u001b[43m*\u001b[49m\u001b[43m*\u001b[49m\u001b[43mkwargs\u001b[49m\u001b[43m)\u001b[49m\n",
      "\u001b[36mFile \u001b[39m\u001b[32m/Library/Frameworks/Python.framework/Versions/3.11/lib/python3.11/site-packages/torch/nn/modules/module.py:1520\u001b[39m, in \u001b[36mModule._call_impl\u001b[39m\u001b[34m(self, *args, **kwargs)\u001b[39m\n\u001b[32m   1515\u001b[39m \u001b[38;5;66;03m# If we don't have any hooks, we want to skip the rest of the logic in\u001b[39;00m\n\u001b[32m   1516\u001b[39m \u001b[38;5;66;03m# this function, and just call forward.\u001b[39;00m\n\u001b[32m   1517\u001b[39m \u001b[38;5;28;01mif\u001b[39;00m \u001b[38;5;129;01mnot\u001b[39;00m (\u001b[38;5;28mself\u001b[39m._backward_hooks \u001b[38;5;129;01mor\u001b[39;00m \u001b[38;5;28mself\u001b[39m._backward_pre_hooks \u001b[38;5;129;01mor\u001b[39;00m \u001b[38;5;28mself\u001b[39m._forward_hooks \u001b[38;5;129;01mor\u001b[39;00m \u001b[38;5;28mself\u001b[39m._forward_pre_hooks\n\u001b[32m   1518\u001b[39m         \u001b[38;5;129;01mor\u001b[39;00m _global_backward_pre_hooks \u001b[38;5;129;01mor\u001b[39;00m _global_backward_hooks\n\u001b[32m   1519\u001b[39m         \u001b[38;5;129;01mor\u001b[39;00m _global_forward_hooks \u001b[38;5;129;01mor\u001b[39;00m _global_forward_pre_hooks):\n\u001b[32m-> \u001b[39m\u001b[32m1520\u001b[39m     \u001b[38;5;28;01mreturn\u001b[39;00m \u001b[43mforward_call\u001b[49m\u001b[43m(\u001b[49m\u001b[43m*\u001b[49m\u001b[43margs\u001b[49m\u001b[43m,\u001b[49m\u001b[43m \u001b[49m\u001b[43m*\u001b[49m\u001b[43m*\u001b[49m\u001b[43mkwargs\u001b[49m\u001b[43m)\u001b[49m\n\u001b[32m   1522\u001b[39m \u001b[38;5;28;01mtry\u001b[39;00m:\n\u001b[32m   1523\u001b[39m     result = \u001b[38;5;28;01mNone\u001b[39;00m\n",
      "\u001b[36mFile \u001b[39m\u001b[32m/Library/Frameworks/Python.framework/Versions/3.11/lib/python3.11/site-packages/torch/nn/modules/container.py:217\u001b[39m, in \u001b[36mSequential.forward\u001b[39m\u001b[34m(self, input)\u001b[39m\n\u001b[32m    215\u001b[39m \u001b[38;5;28;01mdef\u001b[39;00m\u001b[38;5;250m \u001b[39m\u001b[34mforward\u001b[39m(\u001b[38;5;28mself\u001b[39m, \u001b[38;5;28minput\u001b[39m):\n\u001b[32m    216\u001b[39m     \u001b[38;5;28;01mfor\u001b[39;00m module \u001b[38;5;129;01min\u001b[39;00m \u001b[38;5;28mself\u001b[39m:\n\u001b[32m--> \u001b[39m\u001b[32m217\u001b[39m         \u001b[38;5;28minput\u001b[39m = \u001b[43mmodule\u001b[49m\u001b[43m(\u001b[49m\u001b[38;5;28;43minput\u001b[39;49m\u001b[43m)\u001b[49m\n\u001b[32m    218\u001b[39m     \u001b[38;5;28;01mreturn\u001b[39;00m \u001b[38;5;28minput\u001b[39m\n",
      "\u001b[36mFile \u001b[39m\u001b[32m/Library/Frameworks/Python.framework/Versions/3.11/lib/python3.11/site-packages/torch/nn/modules/module.py:1511\u001b[39m, in \u001b[36mModule._wrapped_call_impl\u001b[39m\u001b[34m(self, *args, **kwargs)\u001b[39m\n\u001b[32m   1509\u001b[39m     \u001b[38;5;28;01mreturn\u001b[39;00m \u001b[38;5;28mself\u001b[39m._compiled_call_impl(*args, **kwargs)  \u001b[38;5;66;03m# type: ignore[misc]\u001b[39;00m\n\u001b[32m   1510\u001b[39m \u001b[38;5;28;01melse\u001b[39;00m:\n\u001b[32m-> \u001b[39m\u001b[32m1511\u001b[39m     \u001b[38;5;28;01mreturn\u001b[39;00m \u001b[38;5;28;43mself\u001b[39;49m\u001b[43m.\u001b[49m\u001b[43m_call_impl\u001b[49m\u001b[43m(\u001b[49m\u001b[43m*\u001b[49m\u001b[43margs\u001b[49m\u001b[43m,\u001b[49m\u001b[43m \u001b[49m\u001b[43m*\u001b[49m\u001b[43m*\u001b[49m\u001b[43mkwargs\u001b[49m\u001b[43m)\u001b[49m\n",
      "\u001b[36mFile \u001b[39m\u001b[32m/Library/Frameworks/Python.framework/Versions/3.11/lib/python3.11/site-packages/torch/nn/modules/module.py:1520\u001b[39m, in \u001b[36mModule._call_impl\u001b[39m\u001b[34m(self, *args, **kwargs)\u001b[39m\n\u001b[32m   1515\u001b[39m \u001b[38;5;66;03m# If we don't have any hooks, we want to skip the rest of the logic in\u001b[39;00m\n\u001b[32m   1516\u001b[39m \u001b[38;5;66;03m# this function, and just call forward.\u001b[39;00m\n\u001b[32m   1517\u001b[39m \u001b[38;5;28;01mif\u001b[39;00m \u001b[38;5;129;01mnot\u001b[39;00m (\u001b[38;5;28mself\u001b[39m._backward_hooks \u001b[38;5;129;01mor\u001b[39;00m \u001b[38;5;28mself\u001b[39m._backward_pre_hooks \u001b[38;5;129;01mor\u001b[39;00m \u001b[38;5;28mself\u001b[39m._forward_hooks \u001b[38;5;129;01mor\u001b[39;00m \u001b[38;5;28mself\u001b[39m._forward_pre_hooks\n\u001b[32m   1518\u001b[39m         \u001b[38;5;129;01mor\u001b[39;00m _global_backward_pre_hooks \u001b[38;5;129;01mor\u001b[39;00m _global_backward_hooks\n\u001b[32m   1519\u001b[39m         \u001b[38;5;129;01mor\u001b[39;00m _global_forward_hooks \u001b[38;5;129;01mor\u001b[39;00m _global_forward_pre_hooks):\n\u001b[32m-> \u001b[39m\u001b[32m1520\u001b[39m     \u001b[38;5;28;01mreturn\u001b[39;00m \u001b[43mforward_call\u001b[49m\u001b[43m(\u001b[49m\u001b[43m*\u001b[49m\u001b[43margs\u001b[49m\u001b[43m,\u001b[49m\u001b[43m \u001b[49m\u001b[43m*\u001b[49m\u001b[43m*\u001b[49m\u001b[43mkwargs\u001b[49m\u001b[43m)\u001b[49m\n\u001b[32m   1522\u001b[39m \u001b[38;5;28;01mtry\u001b[39;00m:\n\u001b[32m   1523\u001b[39m     result = \u001b[38;5;28;01mNone\u001b[39;00m\n",
      "\u001b[36mFile \u001b[39m\u001b[32m/Library/Frameworks/Python.framework/Versions/3.11/lib/python3.11/site-packages/torch/nn/modules/linear.py:116\u001b[39m, in \u001b[36mLinear.forward\u001b[39m\u001b[34m(self, input)\u001b[39m\n\u001b[32m    115\u001b[39m \u001b[38;5;28;01mdef\u001b[39;00m\u001b[38;5;250m \u001b[39m\u001b[34mforward\u001b[39m(\u001b[38;5;28mself\u001b[39m, \u001b[38;5;28minput\u001b[39m: Tensor) -> Tensor:\n\u001b[32m--> \u001b[39m\u001b[32m116\u001b[39m     \u001b[38;5;28;01mreturn\u001b[39;00m \u001b[43mF\u001b[49m\u001b[43m.\u001b[49m\u001b[43mlinear\u001b[49m\u001b[43m(\u001b[49m\u001b[38;5;28;43minput\u001b[39;49m\u001b[43m,\u001b[49m\u001b[43m \u001b[49m\u001b[38;5;28;43mself\u001b[39;49m\u001b[43m.\u001b[49m\u001b[43mweight\u001b[49m\u001b[43m,\u001b[49m\u001b[43m \u001b[49m\u001b[38;5;28;43mself\u001b[39;49m\u001b[43m.\u001b[49m\u001b[43mbias\u001b[49m\u001b[43m)\u001b[49m\n",
      "\u001b[31mRuntimeError\u001b[39m: mat1 and mat2 shapes cannot be multiplied (10000x3 and 4x32)"
     ]
    }
   ],
   "source": [
    "# Evaluate expected exp(-gamma * terminal_wealth) for both cases\n",
    "\n",
    "def expected_exp_utility(policy, option=True, n_paths=10000):\n",
    "    policy.eval()\n",
    "    with torch.no_grad():\n",
    "        S_paths = simulate_gbm(S0, mu, sigma, T, N_steps, n_paths)\n",
    "        S_paths = torch.tensor(S_paths, dtype=torch.float32)\n",
    "\n",
    "        y = torch.zeros(n_paths)\n",
    "        trades = []\n",
    "        for t in range(N_steps):\n",
    "            price = S_paths[:, t]\n",
    "            time_feat = torch.full((n_paths, 1), t/N_steps)\n",
    "            y_feat = y.unsqueeze(1)\n",
    "            x = torch.cat([price.unsqueeze(1)/S0, time_feat, y_feat], dim=1)\n",
    "            d_y = policy(x).squeeze(1)\n",
    "            d_y = torch.clamp(d_y, -clip_trade, clip_trade)\n",
    "            trades.append(d_y)\n",
    "            y = torch.clamp(y + d_y, -clip_pos, clip_pos)\n",
    "        cash = torch.zeros(n_paths)\n",
    "        y = torch.zeros(n_paths)\n",
    "        for t in range(N_steps):\n",
    "            d_y = trades[t]\n",
    "            price = S_paths[:, t]\n",
    "            cost = lambda_tc * torch.abs(d_y) * price\n",
    "            cash = cash - d_y * price - cost\n",
    "            y = torch.clamp(y + d_y, -clip_pos, clip_pos)\n",
    "        S_T = S_paths[:, -1]\n",
    "        cash = cash + y * S_T - lambda_tc * torch.abs(y) * S_T\n",
    "        payoff = torch.relu(S_T - strike)\n",
    "        if option:\n",
    "            terminal_wealth = cash - payoff\n",
    "        else:\n",
    "            terminal_wealth = cash\n",
    "        # Don't clamp too aggressively here!\n",
    "        exp_util = torch.exp(-gamma * terminal_wealth)\n",
    "        return exp_util.mean().item()\n",
    "\n",
    "# After training both policies\n",
    "V_H = expected_exp_utility(policy, option=True, n_paths=10000)\n",
    "V_0 = expected_exp_utility(policy_no_option, option=False, n_paths=10000)\n",
    "\n",
    "p_star = (1/gamma) * np.log(V_0 / V_H)\n",
    "print(f\"Utility indifference price: {p_star:.4f}\")\n"
   ]
  }
 ],
 "metadata": {
  "kernelspec": {
   "display_name": "Python 3",
   "language": "python",
   "name": "python3"
  },
  "language_info": {
   "codemirror_mode": {
    "name": "ipython",
    "version": 3
   },
   "file_extension": ".py",
   "mimetype": "text/x-python",
   "name": "python",
   "nbconvert_exporter": "python",
   "pygments_lexer": "ipython3",
   "version": "3.11.9"
  }
 },
 "nbformat": 4,
 "nbformat_minor": 2
}
